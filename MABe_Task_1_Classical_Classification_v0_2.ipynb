{
  "nbformat": 4,
  "nbformat_minor": 0,
  "metadata": {
    "colab": {
      "name": "MABe Task 1: Classical Classification_v0.1",
      "provenance": [],
      "collapsed_sections": [
        "_WGK1pjV81oc"
      ],
      "toc_visible": true,
      "include_colab_link": true
    },
    "kernelspec": {
      "name": "python3",
      "display_name": "Python 3"
    }
  },
  "cells": [
    {
      "cell_type": "markdown",
      "metadata": {
        "id": "view-in-github",
        "colab_type": "text"
      },
      "source": [
        "<a href=\"https://colab.research.google.com/github/JensBlack/MultiAgentBehavior-Challenge/blob/main/MABe_Task_1_Classical_Classification_v0_2.ipynb\" target=\"_parent\"><img src=\"https://colab.research.google.com/assets/colab-badge.svg\" alt=\"Open In Colab\"/></a>"
      ]
    },
    {
      "cell_type": "markdown",
      "metadata": {
        "id": "LNzVqbnxvTRS"
      },
      "source": [
        "![AIcrowd-Logo](https://images.aicrowd.com/raw_images/challenges/banner_file/755/73708a8ac63b521cb3be.jpg)\n",
        "\n",
        "\n",
        "\n",
        "<p align=\"center\"> Join the communty! <br><a href=\"https://discord.gg/GTckBMx\"><img src=\"https://img.shields.io/discord/657211973435392011?style=for-the-badge\" alt=\"chat on Discord\"></a>\n",
        "</p>"
      ]
    },
    {
      "cell_type": "markdown",
      "metadata": {
        "id": "f4w4yZOfV5le"
      },
      "source": [
        "<h1> <center>\n",
        "🐀🐀🐀🐀🐀🐀🐀🐀🐀🐀🐀🐁🐁🐁🐁🐁🐁🐁🐁🐁🐁<br>\n",
        "🐀 MABe Classical Classification: Starter kit 🐁<br>\n",
        "🐀🐀🐀🐀🐀🐀🐀🐀🐀🐀🐀🐁🐁🐁🐁🐁🐁🐁🐁🐁🐁\n",
        "</center>\n",
        "</h1>\n",
        "\n",
        "<p align=\"center\"><img src=\"https://images.aicrowd.com/uploads/ckeditor/pictures/324/content_task1_structure.png\">\n",
        "</p>"
      ]
    },
    {
      "cell_type": "markdown",
      "metadata": {
        "id": "fOsJQCoRvTRY"
      },
      "source": [
        "# Setup AIcrowd Utilities 🛠"
      ]
    },
    {
      "cell_type": "code",
      "metadata": {
        "id": "jCKS_X_KvTRY"
      },
      "source": [
        "!pip install -U aicrowd-cli==0.1 > /dev/null "
      ],
      "execution_count": 77,
      "outputs": []
    },
    {
      "cell_type": "markdown",
      "metadata": {
        "id": "LuQQrNvkID8J"
      },
      "source": [
        "# Install packages 🗃\n",
        "\n",
        "Please add all pacakages installations in this section"
      ]
    },
    {
      "cell_type": "code",
      "metadata": {
        "id": "OPsQS64kIFIz",
        "colab": {
          "base_uri": "https://localhost:8080/"
        },
        "outputId": "d15f5c9e-0a5c-44f3-9d8d-21b473ac9fb0"
      },
      "source": [
        "!pip install numpy pandas"
      ],
      "execution_count": 78,
      "outputs": [
        {
          "output_type": "stream",
          "text": [
            "Requirement already satisfied: numpy in /usr/local/lib/python3.7/dist-packages (1.19.5)\n",
            "Requirement already satisfied: pandas in /usr/local/lib/python3.7/dist-packages (1.1.5)\n",
            "Requirement already satisfied: pytz>=2017.2 in /usr/local/lib/python3.7/dist-packages (from pandas) (2018.9)\n",
            "Requirement already satisfied: python-dateutil>=2.7.3 in /usr/local/lib/python3.7/dist-packages (from pandas) (2.8.1)\n",
            "Requirement already satisfied: six>=1.5 in /usr/local/lib/python3.7/dist-packages (from python-dateutil>=2.7.3->pandas) (1.15.0)\n"
          ],
          "name": "stdout"
        }
      ]
    },
    {
      "cell_type": "markdown",
      "metadata": {
        "id": "jsaWsU8dILfN"
      },
      "source": [
        "# Import necessary modules and packages 📚\n"
      ]
    },
    {
      "cell_type": "code",
      "metadata": {
        "id": "G4CVVoCjIN95"
      },
      "source": [
        "import pandas as pd\n",
        "import numpy as np\n",
        "import os\n",
        "from copy import deepcopy"
      ],
      "execution_count": 79,
      "outputs": []
    },
    {
      "cell_type": "markdown",
      "metadata": {
        "id": "KwykJ9kzvTRZ"
      },
      "source": [
        "# Download the dataset 📲\n",
        "\n",
        "Please get your API key from https://www.aicrowd.com/participants/me\n"
      ]
    },
    {
      "cell_type": "code",
      "metadata": {
        "id": "ekJZdhqrvTRa",
        "colab": {
          "base_uri": "https://localhost:8080/"
        },
        "outputId": "83741e27-5e40-40c7-d65f-b45828b25cd2"
      },
      "source": [
        "API_KEY = \"0a318adc55b35d126bcabfb535e0dfda\"\n",
        "!aicrowd login --api-key $API_KEY"
      ],
      "execution_count": 80,
      "outputs": [
        {
          "output_type": "stream",
          "text": [
            "\u001b[32mAPI Key valid\u001b[0m\n",
            "\u001b[32mSaved API Key successfully!\u001b[0m\n"
          ],
          "name": "stdout"
        }
      ]
    },
    {
      "cell_type": "code",
      "metadata": {
        "id": "FwZgcLsNDej_",
        "colab": {
          "base_uri": "https://localhost:8080/"
        },
        "outputId": "87410b5e-39e6-4695-f789-43fd0754c5de"
      },
      "source": [
        "!aicrowd dataset download --challenge mabe-task-1-classical-classification"
      ],
      "execution_count": 81,
      "outputs": [
        {
          "output_type": "stream",
          "text": [
            "train.npy: 100% 118M/118M [00:02<00:00, 49.8MB/s]\n",
            "sample-submission.npy: 100% 65.4M/65.4M [00:01<00:00, 45.0MB/s]\n",
            "test-release.npy: 100% 1.83G/1.83G [00:59<00:00, 31.0MB/s]\n"
          ],
          "name": "stdout"
        }
      ]
    },
    {
      "cell_type": "markdown",
      "metadata": {
        "id": "Md4em-KzIofe"
      },
      "source": [
        "Extract the downloaded dataset to `data` directory\n"
      ]
    },
    {
      "cell_type": "code",
      "metadata": {
        "id": "jXNMUq-UVc8E"
      },
      "source": [
        "!rm -rf data\n",
        "!mkdir data\n",
        " \n",
        "!mv train.npy data/train.npy\n",
        "!mv test-release.npy data/test.npy\n",
        "!mv sample-submission.npy data/sample_submission.npy"
      ],
      "execution_count": 82,
      "outputs": []
    },
    {
      "cell_type": "markdown",
      "metadata": {
        "id": "7MLxouZUvTRa"
      },
      "source": [
        "# Load Data\n",
        "The dataset files are python dictionaries, [this](https://colab.research.google.com/drive/1ddCX-TAdEcsUaGf09f5Glgr_G57FMK_O#scrollTo=JPsfxdl2GMcM&line=18&uniqifier=1) is a descirption of how the data is organized.\n",
        "\n"
      ]
    },
    {
      "cell_type": "code",
      "metadata": {
        "id": "RopVoFl1vTRb"
      },
      "source": [
        "train = np.load('data/train.npy',allow_pickle=True).item()\n",
        "test = np.load('data/test.npy',allow_pickle=True).item()\n",
        "sample_submission = np.load('data/sample_submission.npy',allow_pickle=True).item()"
      ],
      "execution_count": 83,
      "outputs": []
    },
    {
      "cell_type": "markdown",
      "metadata": {
        "id": "YFcS9p3haBkK"
      },
      "source": [
        "## Dataset Specifications 💾\n",
        "\n",
        "-   **`train.npy`** - Training set for the task, which follows the following schema:\n",
        "\n",
        "<p align=\"left\" style=\"padding: 30px\">&nbsp;&nbsp;&nbsp;&nbsp;&nbsp;&nbsp;&nbsp;&nbsp;&nbsp;&nbsp;&nbsp;<img width=\"600px\" src=\"https://i.imgur.com/GddvoT2.png\">\n",
        "</p>\n",
        "\n",
        "\n",
        "-   **`test-release.npy`** - Test set for the task, which follows the following schema :\n",
        "\n",
        "<p align=\"left\" style=\"padding: 30px\">&nbsp;&nbsp;&nbsp;&nbsp;&nbsp;&nbsp;&nbsp;&nbsp;&nbsp;&nbsp;&nbsp;<img width=\"600px\" src=\"https://i.imgur.com/vfa8Y4V.png\">\n",
        "</p>\n",
        "\n",
        "-   **`sample_submission.npy`** - Template for a sample submission which follows the following schema\n",
        "\n",
        "```json\n",
        "{\n",
        "    \"<sequence_id-1>\" : [0, 0, 1, 2, ...],\n",
        "    \"<sequence_id-2>\" : [0, 1, 2, 0, ...]\n",
        "}\n",
        "```\n",
        "\n",
        "Each key in the dictionary here refers to the unique sequence id obtained for the sequences in the test set.\n",
        "The value for each of the keys is expected to hold a list of corresponing annotations. The annotations are represented by the index of the corresponding annotation words in the vocabular provided in the test set."
      ]
    },
    {
      "cell_type": "markdown",
      "metadata": {
        "id": "JUkb35tcf4bn"
      },
      "source": [
        "## How does the data look like? 🔍\n",
        "\n",
        "### Data overview"
      ]
    },
    {
      "cell_type": "code",
      "metadata": {
        "colab": {
          "base_uri": "https://localhost:8080/"
        },
        "id": "CYIC5DW_oRPb",
        "outputId": "75332848-677c-441b-dc31-298a6b483711"
      },
      "source": [
        "print(\"Dataset keys - \", train.keys())\n",
        "print(\"Vocabulary - \", train['vocabulary'])\n",
        "print(\"Number of train Sequences - \", len(train['sequences']))\n",
        "print(\"Number of test Sequences - \", len(test['sequences']))"
      ],
      "execution_count": 84,
      "outputs": [
        {
          "output_type": "stream",
          "text": [
            "Dataset keys -  dict_keys(['vocabulary', 'sequences'])\n",
            "Vocabulary -  {'attack': 0, 'investigation': 1, 'mount': 2, 'other': 3}\n",
            "Number of train Sequences -  70\n",
            "Number of test Sequences -  458\n"
          ],
          "name": "stdout"
        }
      ]
    },
    {
      "cell_type": "markdown",
      "metadata": {
        "id": "luUly4Y1i4L-"
      },
      "source": [
        "### Sample overview"
      ]
    },
    {
      "cell_type": "code",
      "metadata": {
        "colab": {
          "base_uri": "https://localhost:8080/"
        },
        "id": "Hh9dj4wG3rV0",
        "outputId": "764c90e5-40e5-43bb-ac60-ce646a3d312d"
      },
      "source": [
        "sequence_names = list(train[\"sequences\"].keys())\n",
        "sequence_key = sequence_names[0]\n",
        "single_sequence = train[\"sequences\"][sequence_key]\n",
        "print(\"Sequence name - \", sequence_key)\n",
        "print(\"Single Sequence keys \", single_sequence.keys())\n",
        "print(f\"Number of Frames in {sequence_key} - \", len(single_sequence['annotations']))\n",
        "print(f\"Keypoints data shape of {sequence_key} - \", single_sequence['keypoints'].shape)\n",
        "print(f\"annotator_id of {sequence_key} - \", single_sequence['annotator_id'])"
      ],
      "execution_count": 85,
      "outputs": [
        {
          "output_type": "stream",
          "text": [
            "Sequence name -  1cac195d39\n",
            "Single Sequence keys  dict_keys(['keypoints', 'annotator_id', 'annotations'])\n",
            "Number of Frames in 1cac195d39 -  4879\n",
            "Keypoints data shape of 1cac195d39 -  (4879, 2, 2, 7)\n",
            "annotator_id of 1cac195d39 -  0\n"
          ],
          "name": "stdout"
        }
      ]
    },
    {
      "cell_type": "markdown",
      "metadata": {
        "id": "elMM0KzraDFR"
      },
      "source": [
        "# Convert to pandas\r\n"
      ]
    },
    {
      "cell_type": "code",
      "metadata": {
        "id": "GZ7og_NkZ-cv",
        "colab": {
          "base_uri": "https://localhost:8080/"
        },
        "outputId": "536c8af0-a4cc-426e-f1f6-400267aa9c87"
      },
      "source": [
        "sequence_names = list(train[\"sequences\"].keys())\r\n",
        "sequence_key = sequence_names[0]\r\n",
        "single_sequence = train[\"sequences\"][sequence_key]\r\n",
        "single_keypoints = single_sequence['keypoints']\r\n",
        "single_annotations = single_sequence['annotations']\r\n",
        "print(np.unique(single_annotations))\r\n",
        "single_keypoints_2d = single_keypoints.reshape(single_keypoints.shape[0], single_keypoints.shape[1]*single_keypoints.shape[2]*single_keypoints.shape[3])\r\n",
        "print(single_keypoints.shape, single_keypoints_2d.shape)"
      ],
      "execution_count": 86,
      "outputs": [
        {
          "output_type": "stream",
          "text": [
            "[1 2 3]\n",
            "(4879, 2, 2, 7) (4879, 28)\n"
          ],
          "name": "stdout"
        }
      ]
    },
    {
      "cell_type": "code",
      "metadata": {
        "id": "ccYCvbIoaAXm",
        "colab": {
          "base_uri": "https://localhost:8080/",
          "height": 274
        },
        "outputId": "64c26991-dc82-404b-b1a3-29d46812307c"
      },
      "source": [
        "#convert to pd.DataFrame format\r\n",
        "keypoint_names = ['nose', 'ear_left', 'ear_right', 'neck', 'hip_left', 'hip_right', 'tail_base']\r\n",
        "keypoints_idx = pd.MultiIndex.from_product([['animal1', 'animal2'],keypoint_names, list('xy')], names=['animal','keypoints','coords'])\r\n",
        "df_single_keypoints = pd.DataFrame(single_keypoints_2d, columns = keypoints_idx)\r\n",
        "df_single_keypoints[('classification', '', 'idx')] = single_annotations\r\n",
        "df_single_keypoints.head()"
      ],
      "execution_count": 87,
      "outputs": [
        {
          "output_type": "execute_result",
          "data": {
            "text/html": [
              "<div>\n",
              "<style scoped>\n",
              "    .dataframe tbody tr th:only-of-type {\n",
              "        vertical-align: middle;\n",
              "    }\n",
              "\n",
              "    .dataframe tbody tr th {\n",
              "        vertical-align: top;\n",
              "    }\n",
              "\n",
              "    .dataframe thead tr th {\n",
              "        text-align: left;\n",
              "    }\n",
              "</style>\n",
              "<table border=\"1\" class=\"dataframe\">\n",
              "  <thead>\n",
              "    <tr>\n",
              "      <th>animal</th>\n",
              "      <th colspan=\"14\" halign=\"left\">animal1</th>\n",
              "      <th colspan=\"14\" halign=\"left\">animal2</th>\n",
              "      <th>classification</th>\n",
              "    </tr>\n",
              "    <tr>\n",
              "      <th>keypoints</th>\n",
              "      <th colspan=\"2\" halign=\"left\">nose</th>\n",
              "      <th colspan=\"2\" halign=\"left\">ear_left</th>\n",
              "      <th colspan=\"2\" halign=\"left\">ear_right</th>\n",
              "      <th colspan=\"2\" halign=\"left\">neck</th>\n",
              "      <th colspan=\"2\" halign=\"left\">hip_left</th>\n",
              "      <th colspan=\"2\" halign=\"left\">hip_right</th>\n",
              "      <th colspan=\"2\" halign=\"left\">tail_base</th>\n",
              "      <th colspan=\"2\" halign=\"left\">nose</th>\n",
              "      <th colspan=\"2\" halign=\"left\">ear_left</th>\n",
              "      <th colspan=\"2\" halign=\"left\">ear_right</th>\n",
              "      <th colspan=\"2\" halign=\"left\">neck</th>\n",
              "      <th colspan=\"2\" halign=\"left\">hip_left</th>\n",
              "      <th colspan=\"2\" halign=\"left\">hip_right</th>\n",
              "      <th colspan=\"2\" halign=\"left\">tail_base</th>\n",
              "      <th></th>\n",
              "    </tr>\n",
              "    <tr>\n",
              "      <th>coords</th>\n",
              "      <th>x</th>\n",
              "      <th>y</th>\n",
              "      <th>x</th>\n",
              "      <th>y</th>\n",
              "      <th>x</th>\n",
              "      <th>y</th>\n",
              "      <th>x</th>\n",
              "      <th>y</th>\n",
              "      <th>x</th>\n",
              "      <th>y</th>\n",
              "      <th>x</th>\n",
              "      <th>y</th>\n",
              "      <th>x</th>\n",
              "      <th>y</th>\n",
              "      <th>x</th>\n",
              "      <th>y</th>\n",
              "      <th>x</th>\n",
              "      <th>y</th>\n",
              "      <th>x</th>\n",
              "      <th>y</th>\n",
              "      <th>x</th>\n",
              "      <th>y</th>\n",
              "      <th>x</th>\n",
              "      <th>y</th>\n",
              "      <th>x</th>\n",
              "      <th>y</th>\n",
              "      <th>x</th>\n",
              "      <th>y</th>\n",
              "      <th>idx</th>\n",
              "    </tr>\n",
              "  </thead>\n",
              "  <tbody>\n",
              "    <tr>\n",
              "      <th>0</th>\n",
              "      <td>298.993678</td>\n",
              "      <td>266.993678</td>\n",
              "      <td>248.993678</td>\n",
              "      <td>243.993678</td>\n",
              "      <td>181.993678</td>\n",
              "      <td>144.993678</td>\n",
              "      <td>125.993678</td>\n",
              "      <td>140.750941</td>\n",
              "      <td>194.750941</td>\n",
              "      <td>138.750941</td>\n",
              "      <td>169.750941</td>\n",
              "      <td>240.750941</td>\n",
              "      <td>167.750941</td>\n",
              "      <td>241.750941</td>\n",
              "      <td>191.689427</td>\n",
              "      <td>226.689427</td>\n",
              "      <td>167.689427</td>\n",
              "      <td>200.689427</td>\n",
              "      <td>235.689427</td>\n",
              "      <td>161.689427</td>\n",
              "      <td>203.689427</td>\n",
              "      <td>283.872987</td>\n",
              "      <td>323.872987</td>\n",
              "      <td>329.872987</td>\n",
              "      <td>342.872987</td>\n",
              "      <td>429.872987</td>\n",
              "      <td>433.872987</td>\n",
              "      <td>487.872987</td>\n",
              "      <td>3</td>\n",
              "    </tr>\n",
              "    <tr>\n",
              "      <th>1</th>\n",
              "      <td>295.167458</td>\n",
              "      <td>272.167458</td>\n",
              "      <td>258.167458</td>\n",
              "      <td>250.167458</td>\n",
              "      <td>188.167458</td>\n",
              "      <td>155.167458</td>\n",
              "      <td>132.167458</td>\n",
              "      <td>139.060320</td>\n",
              "      <td>185.060320</td>\n",
              "      <td>133.060320</td>\n",
              "      <td>163.060320</td>\n",
              "      <td>231.060320</td>\n",
              "      <td>161.060320</td>\n",
              "      <td>235.060320</td>\n",
              "      <td>191.571692</td>\n",
              "      <td>224.571692</td>\n",
              "      <td>164.571692</td>\n",
              "      <td>197.571692</td>\n",
              "      <td>233.571692</td>\n",
              "      <td>159.571692</td>\n",
              "      <td>202.571692</td>\n",
              "      <td>276.832877</td>\n",
              "      <td>321.832877</td>\n",
              "      <td>326.832877</td>\n",
              "      <td>340.832877</td>\n",
              "      <td>429.832877</td>\n",
              "      <td>433.832877</td>\n",
              "      <td>488.832877</td>\n",
              "      <td>3</td>\n",
              "    </tr>\n",
              "    <tr>\n",
              "      <th>2</th>\n",
              "      <td>301.360918</td>\n",
              "      <td>278.360918</td>\n",
              "      <td>264.360918</td>\n",
              "      <td>256.360918</td>\n",
              "      <td>203.360918</td>\n",
              "      <td>158.360918</td>\n",
              "      <td>140.360918</td>\n",
              "      <td>135.643521</td>\n",
              "      <td>178.643521</td>\n",
              "      <td>130.643521</td>\n",
              "      <td>157.643521</td>\n",
              "      <td>221.643521</td>\n",
              "      <td>161.643521</td>\n",
              "      <td>232.643521</td>\n",
              "      <td>192.119408</td>\n",
              "      <td>224.119408</td>\n",
              "      <td>165.119408</td>\n",
              "      <td>198.119408</td>\n",
              "      <td>231.119408</td>\n",
              "      <td>159.119408</td>\n",
              "      <td>203.119408</td>\n",
              "      <td>271.252561</td>\n",
              "      <td>321.252561</td>\n",
              "      <td>325.252561</td>\n",
              "      <td>340.252561</td>\n",
              "      <td>429.252561</td>\n",
              "      <td>434.252561</td>\n",
              "      <td>488.252561</td>\n",
              "      <td>3</td>\n",
              "    </tr>\n",
              "    <tr>\n",
              "      <th>3</th>\n",
              "      <td>301.279237</td>\n",
              "      <td>283.279237</td>\n",
              "      <td>269.279237</td>\n",
              "      <td>261.279237</td>\n",
              "      <td>214.279237</td>\n",
              "      <td>158.279237</td>\n",
              "      <td>150.279237</td>\n",
              "      <td>134.841073</td>\n",
              "      <td>170.841073</td>\n",
              "      <td>125.841073</td>\n",
              "      <td>151.841073</td>\n",
              "      <td>212.841073</td>\n",
              "      <td>167.841073</td>\n",
              "      <td>226.841073</td>\n",
              "      <td>196.141740</td>\n",
              "      <td>224.141740</td>\n",
              "      <td>164.141740</td>\n",
              "      <td>197.141740</td>\n",
              "      <td>230.141740</td>\n",
              "      <td>156.141740</td>\n",
              "      <td>202.141740</td>\n",
              "      <td>269.633701</td>\n",
              "      <td>323.633701</td>\n",
              "      <td>323.633701</td>\n",
              "      <td>338.633701</td>\n",
              "      <td>431.633701</td>\n",
              "      <td>433.633701</td>\n",
              "      <td>487.633701</td>\n",
              "      <td>3</td>\n",
              "    </tr>\n",
              "    <tr>\n",
              "      <th>4</th>\n",
              "      <td>314.116591</td>\n",
              "      <td>292.116591</td>\n",
              "      <td>277.116591</td>\n",
              "      <td>272.116591</td>\n",
              "      <td>221.116591</td>\n",
              "      <td>168.116591</td>\n",
              "      <td>157.116591</td>\n",
              "      <td>126.012383</td>\n",
              "      <td>164.012383</td>\n",
              "      <td>123.012383</td>\n",
              "      <td>147.012383</td>\n",
              "      <td>212.012383</td>\n",
              "      <td>162.012383</td>\n",
              "      <td>221.012383</td>\n",
              "      <td>202.022800</td>\n",
              "      <td>231.022800</td>\n",
              "      <td>169.022800</td>\n",
              "      <td>201.022800</td>\n",
              "      <td>234.022800</td>\n",
              "      <td>157.022800</td>\n",
              "      <td>201.022800</td>\n",
              "      <td>269.935361</td>\n",
              "      <td>323.935361</td>\n",
              "      <td>319.935361</td>\n",
              "      <td>338.935361</td>\n",
              "      <td>429.935361</td>\n",
              "      <td>430.935361</td>\n",
              "      <td>485.935361</td>\n",
              "      <td>3</td>\n",
              "    </tr>\n",
              "  </tbody>\n",
              "</table>\n",
              "</div>"
            ],
            "text/plain": [
              "animal        animal1              ...     animal2 classification\n",
              "keypoints        nose              ...   tail_base               \n",
              "coords              x           y  ...           y            idx\n",
              "0          298.993678  266.993678  ...  487.872987              3\n",
              "1          295.167458  272.167458  ...  488.832877              3\n",
              "2          301.360918  278.360918  ...  488.252561              3\n",
              "3          301.279237  283.279237  ...  487.633701              3\n",
              "4          314.116591  292.116591  ...  485.935361              3\n",
              "\n",
              "[5 rows x 29 columns]"
            ]
          },
          "metadata": {
            "tags": []
          },
          "execution_count": 87
        }
      ]
    },
    {
      "cell_type": "markdown",
      "metadata": {
        "id": "Qjj_Pbv7uyZN"
      },
      "source": [
        "# Preprocess\r\n",
        "\r\n",
        "We'll normalize the data based on the information that the frame size is 1024x570\r\n"
      ]
    },
    {
      "cell_type": "code",
      "metadata": {
        "id": "T6cO6U6Vu0N8"
      },
      "source": [
        "#modified from baseline model to fit to pandas\r\n",
        "def normalize_data(df):\r\n",
        "  df_norm = df.copy()\r\n",
        "  df_norm.loc[:, df_norm.columns.get_level_values(2)=='x'] = df_norm.loc[:, df_norm.columns.get_level_values(2)=='x']/1024\r\n",
        "  df_norm.loc[:,df_norm.columns.get_level_values(2)=='y'] = df_norm.loc[:, df_norm.columns.get_level_values(2)=='y']/570\r\n",
        "  return df_norm"
      ],
      "execution_count": 88,
      "outputs": []
    },
    {
      "cell_type": "code",
      "metadata": {
        "colab": {
          "base_uri": "https://localhost:8080/",
          "height": 274
        },
        "id": "IRTlGgizvkFc",
        "outputId": "2f471b38-9e0b-4598-c388-d7a1f8514359"
      },
      "source": [
        "norm_df = normalize_data(df_single_keypoints)\r\n",
        "norm_df.head()"
      ],
      "execution_count": 89,
      "outputs": [
        {
          "output_type": "execute_result",
          "data": {
            "text/html": [
              "<div>\n",
              "<style scoped>\n",
              "    .dataframe tbody tr th:only-of-type {\n",
              "        vertical-align: middle;\n",
              "    }\n",
              "\n",
              "    .dataframe tbody tr th {\n",
              "        vertical-align: top;\n",
              "    }\n",
              "\n",
              "    .dataframe thead tr th {\n",
              "        text-align: left;\n",
              "    }\n",
              "</style>\n",
              "<table border=\"1\" class=\"dataframe\">\n",
              "  <thead>\n",
              "    <tr>\n",
              "      <th>animal</th>\n",
              "      <th colspan=\"14\" halign=\"left\">animal1</th>\n",
              "      <th colspan=\"14\" halign=\"left\">animal2</th>\n",
              "      <th>classification</th>\n",
              "    </tr>\n",
              "    <tr>\n",
              "      <th>keypoints</th>\n",
              "      <th colspan=\"2\" halign=\"left\">nose</th>\n",
              "      <th colspan=\"2\" halign=\"left\">ear_left</th>\n",
              "      <th colspan=\"2\" halign=\"left\">ear_right</th>\n",
              "      <th colspan=\"2\" halign=\"left\">neck</th>\n",
              "      <th colspan=\"2\" halign=\"left\">hip_left</th>\n",
              "      <th colspan=\"2\" halign=\"left\">hip_right</th>\n",
              "      <th colspan=\"2\" halign=\"left\">tail_base</th>\n",
              "      <th colspan=\"2\" halign=\"left\">nose</th>\n",
              "      <th colspan=\"2\" halign=\"left\">ear_left</th>\n",
              "      <th colspan=\"2\" halign=\"left\">ear_right</th>\n",
              "      <th colspan=\"2\" halign=\"left\">neck</th>\n",
              "      <th colspan=\"2\" halign=\"left\">hip_left</th>\n",
              "      <th colspan=\"2\" halign=\"left\">hip_right</th>\n",
              "      <th colspan=\"2\" halign=\"left\">tail_base</th>\n",
              "      <th></th>\n",
              "    </tr>\n",
              "    <tr>\n",
              "      <th>coords</th>\n",
              "      <th>x</th>\n",
              "      <th>y</th>\n",
              "      <th>x</th>\n",
              "      <th>y</th>\n",
              "      <th>x</th>\n",
              "      <th>y</th>\n",
              "      <th>x</th>\n",
              "      <th>y</th>\n",
              "      <th>x</th>\n",
              "      <th>y</th>\n",
              "      <th>x</th>\n",
              "      <th>y</th>\n",
              "      <th>x</th>\n",
              "      <th>y</th>\n",
              "      <th>x</th>\n",
              "      <th>y</th>\n",
              "      <th>x</th>\n",
              "      <th>y</th>\n",
              "      <th>x</th>\n",
              "      <th>y</th>\n",
              "      <th>x</th>\n",
              "      <th>y</th>\n",
              "      <th>x</th>\n",
              "      <th>y</th>\n",
              "      <th>x</th>\n",
              "      <th>y</th>\n",
              "      <th>x</th>\n",
              "      <th>y</th>\n",
              "      <th>idx</th>\n",
              "    </tr>\n",
              "  </thead>\n",
              "  <tbody>\n",
              "    <tr>\n",
              "      <th>0</th>\n",
              "      <td>0.291986</td>\n",
              "      <td>0.468410</td>\n",
              "      <td>0.243158</td>\n",
              "      <td>0.428059</td>\n",
              "      <td>0.177728</td>\n",
              "      <td>0.254375</td>\n",
              "      <td>0.123041</td>\n",
              "      <td>0.246931</td>\n",
              "      <td>0.190186</td>\n",
              "      <td>0.243423</td>\n",
              "      <td>0.165772</td>\n",
              "      <td>0.422370</td>\n",
              "      <td>0.163819</td>\n",
              "      <td>0.424124</td>\n",
              "      <td>0.187197</td>\n",
              "      <td>0.397701</td>\n",
              "      <td>0.163759</td>\n",
              "      <td>0.352087</td>\n",
              "      <td>0.230165</td>\n",
              "      <td>0.283666</td>\n",
              "      <td>0.198915</td>\n",
              "      <td>0.498023</td>\n",
              "      <td>0.316282</td>\n",
              "      <td>0.578725</td>\n",
              "      <td>0.334837</td>\n",
              "      <td>0.754163</td>\n",
              "      <td>0.423704</td>\n",
              "      <td>0.855918</td>\n",
              "      <td>3</td>\n",
              "    </tr>\n",
              "    <tr>\n",
              "      <th>1</th>\n",
              "      <td>0.288249</td>\n",
              "      <td>0.477487</td>\n",
              "      <td>0.252117</td>\n",
              "      <td>0.438890</td>\n",
              "      <td>0.183757</td>\n",
              "      <td>0.272224</td>\n",
              "      <td>0.129070</td>\n",
              "      <td>0.243965</td>\n",
              "      <td>0.180723</td>\n",
              "      <td>0.233439</td>\n",
              "      <td>0.159239</td>\n",
              "      <td>0.405369</td>\n",
              "      <td>0.157285</td>\n",
              "      <td>0.412387</td>\n",
              "      <td>0.187082</td>\n",
              "      <td>0.393985</td>\n",
              "      <td>0.160715</td>\n",
              "      <td>0.346617</td>\n",
              "      <td>0.228097</td>\n",
              "      <td>0.279950</td>\n",
              "      <td>0.197824</td>\n",
              "      <td>0.485672</td>\n",
              "      <td>0.314290</td>\n",
              "      <td>0.573391</td>\n",
              "      <td>0.332845</td>\n",
              "      <td>0.754093</td>\n",
              "      <td>0.423665</td>\n",
              "      <td>0.857602</td>\n",
              "      <td>3</td>\n",
              "    </tr>\n",
              "    <tr>\n",
              "      <th>2</th>\n",
              "      <td>0.294298</td>\n",
              "      <td>0.488352</td>\n",
              "      <td>0.258165</td>\n",
              "      <td>0.449756</td>\n",
              "      <td>0.198595</td>\n",
              "      <td>0.277826</td>\n",
              "      <td>0.137071</td>\n",
              "      <td>0.237971</td>\n",
              "      <td>0.174457</td>\n",
              "      <td>0.229199</td>\n",
              "      <td>0.153949</td>\n",
              "      <td>0.388848</td>\n",
              "      <td>0.157855</td>\n",
              "      <td>0.408147</td>\n",
              "      <td>0.187617</td>\n",
              "      <td>0.393192</td>\n",
              "      <td>0.161249</td>\n",
              "      <td>0.347578</td>\n",
              "      <td>0.225703</td>\n",
              "      <td>0.279157</td>\n",
              "      <td>0.198359</td>\n",
              "      <td>0.475882</td>\n",
              "      <td>0.313723</td>\n",
              "      <td>0.570619</td>\n",
              "      <td>0.332278</td>\n",
              "      <td>0.753075</td>\n",
              "      <td>0.424075</td>\n",
              "      <td>0.856583</td>\n",
              "      <td>3</td>\n",
              "    </tr>\n",
              "    <tr>\n",
              "      <th>3</th>\n",
              "      <td>0.294218</td>\n",
              "      <td>0.496981</td>\n",
              "      <td>0.262968</td>\n",
              "      <td>0.458385</td>\n",
              "      <td>0.209257</td>\n",
              "      <td>0.277683</td>\n",
              "      <td>0.146757</td>\n",
              "      <td>0.236563</td>\n",
              "      <td>0.166837</td>\n",
              "      <td>0.220774</td>\n",
              "      <td>0.148282</td>\n",
              "      <td>0.373405</td>\n",
              "      <td>0.163907</td>\n",
              "      <td>0.397967</td>\n",
              "      <td>0.191545</td>\n",
              "      <td>0.393231</td>\n",
              "      <td>0.160295</td>\n",
              "      <td>0.345863</td>\n",
              "      <td>0.224748</td>\n",
              "      <td>0.273933</td>\n",
              "      <td>0.197404</td>\n",
              "      <td>0.473042</td>\n",
              "      <td>0.316049</td>\n",
              "      <td>0.567778</td>\n",
              "      <td>0.330697</td>\n",
              "      <td>0.757252</td>\n",
              "      <td>0.423470</td>\n",
              "      <td>0.855498</td>\n",
              "      <td>3</td>\n",
              "    </tr>\n",
              "    <tr>\n",
              "      <th>4</th>\n",
              "      <td>0.306754</td>\n",
              "      <td>0.512485</td>\n",
              "      <td>0.270622</td>\n",
              "      <td>0.477398</td>\n",
              "      <td>0.215934</td>\n",
              "      <td>0.294941</td>\n",
              "      <td>0.153434</td>\n",
              "      <td>0.221074</td>\n",
              "      <td>0.160168</td>\n",
              "      <td>0.215811</td>\n",
              "      <td>0.143567</td>\n",
              "      <td>0.371952</td>\n",
              "      <td>0.158215</td>\n",
              "      <td>0.387741</td>\n",
              "      <td>0.197288</td>\n",
              "      <td>0.405303</td>\n",
              "      <td>0.165061</td>\n",
              "      <td>0.352672</td>\n",
              "      <td>0.228538</td>\n",
              "      <td>0.275479</td>\n",
              "      <td>0.196311</td>\n",
              "      <td>0.473571</td>\n",
              "      <td>0.316343</td>\n",
              "      <td>0.561290</td>\n",
              "      <td>0.330992</td>\n",
              "      <td>0.754273</td>\n",
              "      <td>0.420835</td>\n",
              "      <td>0.852518</td>\n",
              "      <td>3</td>\n",
              "    </tr>\n",
              "  </tbody>\n",
              "</table>\n",
              "</div>"
            ],
            "text/plain": [
              "animal      animal1                      ...   animal2           classification\n",
              "keypoints      nose            ear_left  ... tail_base                         \n",
              "coords            x         y         x  ...         x         y            idx\n",
              "0          0.291986  0.468410  0.243158  ...  0.423704  0.855918              3\n",
              "1          0.288249  0.477487  0.252117  ...  0.423665  0.857602              3\n",
              "2          0.294298  0.488352  0.258165  ...  0.424075  0.856583              3\n",
              "3          0.294218  0.496981  0.262968  ...  0.423470  0.855498              3\n",
              "4          0.306754  0.512485  0.270622  ...  0.420835  0.852518              3\n",
              "\n",
              "[5 rows x 29 columns]"
            ]
          },
          "metadata": {
            "tags": []
          },
          "execution_count": 89
        }
      ]
    },
    {
      "cell_type": "markdown",
      "metadata": {
        "id": "ISlcWlz-w5u-"
      },
      "source": [
        "# Go through all sequences"
      ]
    },
    {
      "cell_type": "code",
      "metadata": {
        "colab": {
          "base_uri": "https://localhost:8080/",
          "height": 363
        },
        "id": "M-iQGgtpeCqM",
        "outputId": "7d119fe6-8680-4a1e-f5e2-8a26b1f2a0fa"
      },
      "source": [
        "## Going through all sequences and creating giant dataframe\r\n",
        "keypoint_names = ['nose', 'ear_left', 'ear_right', 'neck', 'hip_left', 'hip_right', 'tail_base']\r\n",
        "keypoints_idx = pd.MultiIndex.from_product([['animal1', 'animal2'],keypoint_names, list('xy')], names=['animal','keypoints','coords'])\r\n",
        "\r\n",
        "collection_df = None\r\n",
        "for sequence_idx in range(len(sequence_names)):\r\n",
        "  sequence_key = sequence_names[sequence_idx]\r\n",
        "  single_sequence = train[\"sequences\"][sequence_key]\r\n",
        "  single_keypoints = single_sequence['keypoints']\r\n",
        "  single_annotations = single_sequence['annotations']\r\n",
        "  single_keypoints_2d = single_keypoints.reshape(single_keypoints.shape[0], single_keypoints.shape[1]*single_keypoints.shape[2]*single_keypoints.shape[3])\r\n",
        "\r\n",
        "  # convert to dataframe\r\n",
        "  df_single_keypoints = pd.DataFrame(single_keypoints_2d, columns = keypoints_idx)\r\n",
        "  df_single_keypoints[('classification', '', 'idx')] = single_annotations\r\n",
        "  df_single_keypoints[('classification', '', 'idx')] = df_single_keypoints[('classification', '', 'idx')].astype('category')\r\n",
        "\r\n",
        "  #normalize coordinates\r\n",
        "  df_single_keypoints = normalize_data(df_single_keypoints)\r\n",
        "\r\n",
        "  if collection_df is None:\r\n",
        "    collection_df = df_single_keypoints\r\n",
        "  else:\r\n",
        "    collection_df = pd.concat([collection_df, df_single_keypoints], ignore_index= True)\r\n",
        "\r\n",
        "#collection_df[('classification', '', 'idx')] = collection_df[('classification', '', 'idx')].astype(\"category\")\r\n",
        "collection_df.describe(include= 'all')\r\n"
      ],
      "execution_count": 90,
      "outputs": [
        {
          "output_type": "execute_result",
          "data": {
            "text/html": [
              "<div>\n",
              "<style scoped>\n",
              "    .dataframe tbody tr th:only-of-type {\n",
              "        vertical-align: middle;\n",
              "    }\n",
              "\n",
              "    .dataframe tbody tr th {\n",
              "        vertical-align: top;\n",
              "    }\n",
              "\n",
              "    .dataframe thead tr th {\n",
              "        text-align: left;\n",
              "    }\n",
              "</style>\n",
              "<table border=\"1\" class=\"dataframe\">\n",
              "  <thead>\n",
              "    <tr>\n",
              "      <th>animal</th>\n",
              "      <th colspan=\"14\" halign=\"left\">animal1</th>\n",
              "      <th colspan=\"14\" halign=\"left\">animal2</th>\n",
              "      <th>classification</th>\n",
              "    </tr>\n",
              "    <tr>\n",
              "      <th>keypoints</th>\n",
              "      <th colspan=\"2\" halign=\"left\">nose</th>\n",
              "      <th colspan=\"2\" halign=\"left\">ear_left</th>\n",
              "      <th colspan=\"2\" halign=\"left\">ear_right</th>\n",
              "      <th colspan=\"2\" halign=\"left\">neck</th>\n",
              "      <th colspan=\"2\" halign=\"left\">hip_left</th>\n",
              "      <th colspan=\"2\" halign=\"left\">hip_right</th>\n",
              "      <th colspan=\"2\" halign=\"left\">tail_base</th>\n",
              "      <th colspan=\"2\" halign=\"left\">nose</th>\n",
              "      <th colspan=\"2\" halign=\"left\">ear_left</th>\n",
              "      <th colspan=\"2\" halign=\"left\">ear_right</th>\n",
              "      <th colspan=\"2\" halign=\"left\">neck</th>\n",
              "      <th colspan=\"2\" halign=\"left\">hip_left</th>\n",
              "      <th colspan=\"2\" halign=\"left\">hip_right</th>\n",
              "      <th colspan=\"2\" halign=\"left\">tail_base</th>\n",
              "      <th></th>\n",
              "    </tr>\n",
              "    <tr>\n",
              "      <th>coords</th>\n",
              "      <th>x</th>\n",
              "      <th>y</th>\n",
              "      <th>x</th>\n",
              "      <th>y</th>\n",
              "      <th>x</th>\n",
              "      <th>y</th>\n",
              "      <th>x</th>\n",
              "      <th>y</th>\n",
              "      <th>x</th>\n",
              "      <th>y</th>\n",
              "      <th>x</th>\n",
              "      <th>y</th>\n",
              "      <th>x</th>\n",
              "      <th>y</th>\n",
              "      <th>x</th>\n",
              "      <th>y</th>\n",
              "      <th>x</th>\n",
              "      <th>y</th>\n",
              "      <th>x</th>\n",
              "      <th>y</th>\n",
              "      <th>x</th>\n",
              "      <th>y</th>\n",
              "      <th>x</th>\n",
              "      <th>y</th>\n",
              "      <th>x</th>\n",
              "      <th>y</th>\n",
              "      <th>x</th>\n",
              "      <th>y</th>\n",
              "      <th>idx</th>\n",
              "    </tr>\n",
              "  </thead>\n",
              "  <tbody>\n",
              "    <tr>\n",
              "      <th>count</th>\n",
              "      <td>507738.000000</td>\n",
              "      <td>507738.000000</td>\n",
              "      <td>507738.000000</td>\n",
              "      <td>507738.000000</td>\n",
              "      <td>507738.000000</td>\n",
              "      <td>507738.000000</td>\n",
              "      <td>507738.000000</td>\n",
              "      <td>507738.000000</td>\n",
              "      <td>507738.000000</td>\n",
              "      <td>507738.000000</td>\n",
              "      <td>507738.000000</td>\n",
              "      <td>507738.000000</td>\n",
              "      <td>507738.000000</td>\n",
              "      <td>507738.000000</td>\n",
              "      <td>507738.000000</td>\n",
              "      <td>507738.000000</td>\n",
              "      <td>507738.000000</td>\n",
              "      <td>507738.000000</td>\n",
              "      <td>507738.000000</td>\n",
              "      <td>507738.000000</td>\n",
              "      <td>507738.000000</td>\n",
              "      <td>507738.000000</td>\n",
              "      <td>507738.000000</td>\n",
              "      <td>507738.000000</td>\n",
              "      <td>507738.000000</td>\n",
              "      <td>507738.000000</td>\n",
              "      <td>507738.000000</td>\n",
              "      <td>507738.000000</td>\n",
              "      <td>507738.000000</td>\n",
              "    </tr>\n",
              "    <tr>\n",
              "      <th>mean</th>\n",
              "      <td>0.487286</td>\n",
              "      <td>0.863737</td>\n",
              "      <td>0.486614</td>\n",
              "      <td>0.866815</td>\n",
              "      <td>0.474247</td>\n",
              "      <td>0.866766</td>\n",
              "      <td>0.474671</td>\n",
              "      <td>0.554954</td>\n",
              "      <td>0.304881</td>\n",
              "      <td>0.541125</td>\n",
              "      <td>0.301176</td>\n",
              "      <td>0.535183</td>\n",
              "      <td>0.292558</td>\n",
              "      <td>0.522018</td>\n",
              "      <td>0.522835</td>\n",
              "      <td>0.937257</td>\n",
              "      <td>0.519414</td>\n",
              "      <td>0.934363</td>\n",
              "      <td>0.518209</td>\n",
              "      <td>0.926731</td>\n",
              "      <td>0.514171</td>\n",
              "      <td>0.578507</td>\n",
              "      <td>0.324556</td>\n",
              "      <td>0.578382</td>\n",
              "      <td>0.323486</td>\n",
              "      <td>0.588208</td>\n",
              "      <td>0.323696</td>\n",
              "      <td>0.586393</td>\n",
              "      <td>2.283101</td>\n",
              "    </tr>\n",
              "    <tr>\n",
              "      <th>std</th>\n",
              "      <td>0.269802</td>\n",
              "      <td>0.475637</td>\n",
              "      <td>0.265892</td>\n",
              "      <td>0.474275</td>\n",
              "      <td>0.259540</td>\n",
              "      <td>0.467442</td>\n",
              "      <td>0.258743</td>\n",
              "      <td>0.221220</td>\n",
              "      <td>0.114908</td>\n",
              "      <td>0.209675</td>\n",
              "      <td>0.113377</td>\n",
              "      <td>0.208783</td>\n",
              "      <td>0.119251</td>\n",
              "      <td>0.219092</td>\n",
              "      <td>0.274787</td>\n",
              "      <td>0.495827</td>\n",
              "      <td>0.274694</td>\n",
              "      <td>0.492678</td>\n",
              "      <td>0.270709</td>\n",
              "      <td>0.485548</td>\n",
              "      <td>0.270470</td>\n",
              "      <td>0.229042</td>\n",
              "      <td>0.124725</td>\n",
              "      <td>0.223585</td>\n",
              "      <td>0.122653</td>\n",
              "      <td>0.226668</td>\n",
              "      <td>0.126322</td>\n",
              "      <td>0.235602</td>\n",
              "      <td>0.972861</td>\n",
              "    </tr>\n",
              "    <tr>\n",
              "      <th>min</th>\n",
              "      <td>0.000000</td>\n",
              "      <td>0.019298</td>\n",
              "      <td>0.031250</td>\n",
              "      <td>0.087719</td>\n",
              "      <td>0.010742</td>\n",
              "      <td>0.067527</td>\n",
              "      <td>0.000000</td>\n",
              "      <td>0.010526</td>\n",
              "      <td>0.043990</td>\n",
              "      <td>0.080702</td>\n",
              "      <td>0.062500</td>\n",
              "      <td>0.093584</td>\n",
              "      <td>0.050330</td>\n",
              "      <td>0.069869</td>\n",
              "      <td>0.000000</td>\n",
              "      <td>0.022807</td>\n",
              "      <td>0.013672</td>\n",
              "      <td>0.071930</td>\n",
              "      <td>0.011719</td>\n",
              "      <td>0.043112</td>\n",
              "      <td>0.011719</td>\n",
              "      <td>0.000000</td>\n",
              "      <td>0.009766</td>\n",
              "      <td>0.033333</td>\n",
              "      <td>0.052734</td>\n",
              "      <td>0.040351</td>\n",
              "      <td>0.034180</td>\n",
              "      <td>0.029825</td>\n",
              "      <td>0.000000</td>\n",
              "    </tr>\n",
              "    <tr>\n",
              "      <th>25%</th>\n",
              "      <td>0.222908</td>\n",
              "      <td>0.370868</td>\n",
              "      <td>0.210345</td>\n",
              "      <td>0.366630</td>\n",
              "      <td>0.211577</td>\n",
              "      <td>0.392432</td>\n",
              "      <td>0.219554</td>\n",
              "      <td>0.365340</td>\n",
              "      <td>0.202134</td>\n",
              "      <td>0.353381</td>\n",
              "      <td>0.193685</td>\n",
              "      <td>0.349630</td>\n",
              "      <td>0.188665</td>\n",
              "      <td>0.314468</td>\n",
              "      <td>0.249454</td>\n",
              "      <td>0.421604</td>\n",
              "      <td>0.232608</td>\n",
              "      <td>0.413046</td>\n",
              "      <td>0.237082</td>\n",
              "      <td>0.420044</td>\n",
              "      <td>0.246407</td>\n",
              "      <td>0.386197</td>\n",
              "      <td>0.211322</td>\n",
              "      <td>0.371741</td>\n",
              "      <td>0.206659</td>\n",
              "      <td>0.384003</td>\n",
              "      <td>0.206881</td>\n",
              "      <td>0.365867</td>\n",
              "      <td>1.000000</td>\n",
              "    </tr>\n",
              "    <tr>\n",
              "      <th>50%</th>\n",
              "      <td>0.491596</td>\n",
              "      <td>0.888416</td>\n",
              "      <td>0.493992</td>\n",
              "      <td>0.886585</td>\n",
              "      <td>0.490698</td>\n",
              "      <td>0.886028</td>\n",
              "      <td>0.489861</td>\n",
              "      <td>0.548880</td>\n",
              "      <td>0.301047</td>\n",
              "      <td>0.530468</td>\n",
              "      <td>0.296137</td>\n",
              "      <td>0.530266</td>\n",
              "      <td>0.285652</td>\n",
              "      <td>0.514372</td>\n",
              "      <td>0.571367</td>\n",
              "      <td>1.021906</td>\n",
              "      <td>0.570386</td>\n",
              "      <td>1.020084</td>\n",
              "      <td>0.554137</td>\n",
              "      <td>0.995255</td>\n",
              "      <td>0.551298</td>\n",
              "      <td>0.596134</td>\n",
              "      <td>0.342699</td>\n",
              "      <td>0.601916</td>\n",
              "      <td>0.343021</td>\n",
              "      <td>0.629259</td>\n",
              "      <td>0.339849</td>\n",
              "      <td>0.608195</td>\n",
              "      <td>3.000000</td>\n",
              "    </tr>\n",
              "    <tr>\n",
              "      <th>75%</th>\n",
              "      <td>0.754293</td>\n",
              "      <td>1.344355</td>\n",
              "      <td>0.757120</td>\n",
              "      <td>1.352389</td>\n",
              "      <td>0.727326</td>\n",
              "      <td>1.314676</td>\n",
              "      <td>0.709939</td>\n",
              "      <td>0.750798</td>\n",
              "      <td>0.410198</td>\n",
              "      <td>0.731585</td>\n",
              "      <td>0.410522</td>\n",
              "      <td>0.714690</td>\n",
              "      <td>0.395157</td>\n",
              "      <td>0.715394</td>\n",
              "      <td>0.783101</td>\n",
              "      <td>1.425575</td>\n",
              "      <td>0.788703</td>\n",
              "      <td>1.428619</td>\n",
              "      <td>0.781224</td>\n",
              "      <td>1.397119</td>\n",
              "      <td>0.775337</td>\n",
              "      <td>0.775450</td>\n",
              "      <td>0.437783</td>\n",
              "      <td>0.780756</td>\n",
              "      <td>0.440174</td>\n",
              "      <td>0.789169</td>\n",
              "      <td>0.432628</td>\n",
              "      <td>0.811078</td>\n",
              "      <td>3.000000</td>\n",
              "    </tr>\n",
              "    <tr>\n",
              "      <th>max</th>\n",
              "      <td>0.994514</td>\n",
              "      <td>1.739340</td>\n",
              "      <td>0.967787</td>\n",
              "      <td>1.678971</td>\n",
              "      <td>0.978201</td>\n",
              "      <td>1.748097</td>\n",
              "      <td>0.975015</td>\n",
              "      <td>0.998830</td>\n",
              "      <td>0.546803</td>\n",
              "      <td>0.962915</td>\n",
              "      <td>0.535901</td>\n",
              "      <td>0.975144</td>\n",
              "      <td>0.555492</td>\n",
              "      <td>0.998117</td>\n",
              "      <td>0.999273</td>\n",
              "      <td>1.749358</td>\n",
              "      <td>0.976939</td>\n",
              "      <td>1.689709</td>\n",
              "      <td>0.981411</td>\n",
              "      <td>1.739744</td>\n",
              "      <td>0.997791</td>\n",
              "      <td>0.999100</td>\n",
              "      <td>0.546092</td>\n",
              "      <td>0.989669</td>\n",
              "      <td>0.542768</td>\n",
              "      <td>0.981438</td>\n",
              "      <td>0.546014</td>\n",
              "      <td>0.998992</td>\n",
              "      <td>3.000000</td>\n",
              "    </tr>\n",
              "  </tbody>\n",
              "</table>\n",
              "</div>"
            ],
            "text/plain": [
              "animal           animal1                 ...        animal2 classification\n",
              "keypoints           nose                 ...      tail_base               \n",
              "coords                 x              y  ...              y            idx\n",
              "count      507738.000000  507738.000000  ...  507738.000000  507738.000000\n",
              "mean            0.487286       0.863737  ...       0.586393       2.283101\n",
              "std             0.269802       0.475637  ...       0.235602       0.972861\n",
              "min             0.000000       0.019298  ...       0.029825       0.000000\n",
              "25%             0.222908       0.370868  ...       0.365867       1.000000\n",
              "50%             0.491596       0.888416  ...       0.608195       3.000000\n",
              "75%             0.754293       1.344355  ...       0.811078       3.000000\n",
              "max             0.994514       1.739340  ...       0.998992       3.000000\n",
              "\n",
              "[8 rows x 29 columns]"
            ]
          },
          "metadata": {
            "tags": []
          },
          "execution_count": 90
        }
      ]
    },
    {
      "cell_type": "code",
      "metadata": {
        "id": "kdcK98Z71-CO",
        "colab": {
          "base_uri": "https://localhost:8080/"
        },
        "outputId": "c583565e-f20b-4bd8-e464-a0c553d73c0f"
      },
      "source": [
        "# take equally sized samples from all categories:\r\n",
        "#feature_df = collection_df.loc[collection_df[('classification', '', 'idx')] != 3]\r\n",
        "feature_df = collection_df.copy()\r\n",
        "label_count= feature_df[('classification', '', 'idx')].value_counts()\r\n",
        "min_label = label_count.idxmin() \r\n",
        "min_count = np.amin(label_count)\r\n",
        "feature__sample = feature_df.groupby(('classification', '', 'idx')).sample(n=min_count, random_state=14)\r\n",
        "feature__sample.shape\r\n",
        "\r\n",
        "print(f'Minimum occurances of label {min_label}: {min_count}. Taking {min_count} samples per group...')"
      ],
      "execution_count": 91,
      "outputs": [
        {
          "output_type": "stream",
          "text": [
            "Minimum occurances of label 0: 14043. Taking 14043 samples per group...\n"
          ],
          "name": "stdout"
        }
      ]
    },
    {
      "cell_type": "markdown",
      "metadata": {
        "id": "hSs-j_CAlWKE"
      },
      "source": [
        "# Basic prediction: Single frame - single prediction with Random Forest (no additional features)"
      ]
    },
    {
      "cell_type": "code",
      "metadata": {
        "id": "4qzgoL3PlHjR",
        "colab": {
          "base_uri": "https://localhost:8080/"
        },
        "outputId": "d5dfe11b-2585-4a99-9650-2218bd1bac4f"
      },
      "source": [
        "from sklearn.model_selection import train_test_split\r\n",
        "labels = np.array(feature__sample[('classification', '', 'idx')])\r\n",
        "# Remove the labels from the features\r\n",
        "features = feature__sample.drop(('classification', '', 'idx'), axis = 1)\r\n",
        "# Saving feature names\r\n",
        "feature_list = list(features.columns)\r\n",
        "# Convert to numpy array\r\n",
        "features = np.array(features)\r\n",
        "\r\n",
        "# Split the data into training and testing sets\r\n",
        "train_features, test_features, train_labels, test_labels = train_test_split(features, labels, test_size = 0.25, random_state = 14)\r\n",
        "print('Training Features :', train_features.shape)\r\n",
        "print('Training Labels :', train_labels.shape)\r\n",
        "print('Testing Features :', test_features.shape)\r\n",
        "print('Testing Labels :', test_labels.shape)"
      ],
      "execution_count": 92,
      "outputs": [
        {
          "output_type": "stream",
          "text": [
            "Training Features : (42129, 28)\n",
            "Training Labels : (42129,)\n",
            "Testing Features : (14043, 28)\n",
            "Testing Labels : (14043,)\n"
          ],
          "name": "stdout"
        }
      ]
    },
    {
      "cell_type": "code",
      "metadata": {
        "id": "kFLCH6Y_mfJ_",
        "colab": {
          "base_uri": "https://localhost:8080/"
        },
        "outputId": "a372c9c1-b3fe-4d56-b143-8ba0c440523c"
      },
      "source": [
        "from sklearn.ensemble import RandomForestClassifier\r\n",
        "\r\n",
        "\r\n",
        "rf = RandomForestClassifier(n_estimators = 200, random_state = 14)\r\n",
        "\r\n",
        "# Train the model on training data\r\n",
        "rf.fit(train_features, train_labels)"
      ],
      "execution_count": 93,
      "outputs": [
        {
          "output_type": "execute_result",
          "data": {
            "text/plain": [
              "RandomForestClassifier(bootstrap=True, ccp_alpha=0.0, class_weight=None,\n",
              "                       criterion='gini', max_depth=None, max_features='auto',\n",
              "                       max_leaf_nodes=None, max_samples=None,\n",
              "                       min_impurity_decrease=0.0, min_impurity_split=None,\n",
              "                       min_samples_leaf=1, min_samples_split=2,\n",
              "                       min_weight_fraction_leaf=0.0, n_estimators=200,\n",
              "                       n_jobs=None, oob_score=False, random_state=14, verbose=0,\n",
              "                       warm_start=False)"
            ]
          },
          "metadata": {
            "tags": []
          },
          "execution_count": 93
        }
      ]
    },
    {
      "cell_type": "code",
      "metadata": {
        "id": "EH028nGxppgs",
        "colab": {
          "base_uri": "https://localhost:8080/"
        },
        "outputId": "33ad45ee-8b3b-46aa-fd47-4100263945a2"
      },
      "source": [
        "predictions = rf.predict(test_features)\r\n",
        "\r\n",
        "# calculate accuracy\r\n",
        "from sklearn import metrics\r\n",
        "print(metrics.accuracy_score(test_labels, predictions))"
      ],
      "execution_count": 94,
      "outputs": [
        {
          "output_type": "stream",
          "text": [
            "0.9074271879228085\n"
          ],
          "name": "stdout"
        }
      ]
    },
    {
      "cell_type": "markdown",
      "metadata": {
        "id": "8Tm47a7k759J"
      },
      "source": [
        "# Generate predictions 💪\r\n",
        "\r\n",
        "Note to myself:\r\n",
        "DON'T FORGET TO ALTER THE TEST FILE THE SAME YOU DID THE TRAIN FILE!!!\r\n"
      ]
    },
    {
      "cell_type": "code",
      "metadata": {
        "id": "XG55GOAHrY6r"
      },
      "source": [
        "# Generating Random Predictions\n",
        "submission = {}\n",
        "test = np.load('data/test.npy',allow_pickle=True).item()\n",
        "for sequence_id, sequence in test[\"sequences\"].items():\n",
        "  single_keypoints = sequence['keypoints']\n",
        "  single_keypoints_2d = single_keypoints.reshape(single_keypoints.shape[0], single_keypoints.shape[1]*single_keypoints.shape[2]*single_keypoints.shape[3])\n",
        "  # convert to dataframe\n",
        "  df_single_keypoints = pd.DataFrame(single_keypoints_2d, columns = keypoints_idx)\n",
        "  #normalize coordinates\n",
        "  df_single_keypoints = normalize_data(df_single_keypoints)\n",
        "  test_features = np.array(df_single_keypoints)\n",
        "\n",
        "\n",
        "\n",
        "\n",
        "  submission[sequence_id] = rf.predict(test_features)\n",
        "  "
      ],
      "execution_count": 95,
      "outputs": []
    },
    {
      "cell_type": "markdown",
      "metadata": {
        "id": "zZYfbeJIrNt9"
      },
      "source": [
        "## Validate the submission ✅\n",
        "The submssion should follow these constraints:\n",
        "\n",
        "1.   It should be a dictionary\n",
        "2.   It should be have same keys as sample_submission\n",
        "3.   The lengths of the arrays are same\n",
        "4.   All values are intergers\n",
        "\n",
        "You can use the helper function below to check these\n",
        "\n"
      ]
    },
    {
      "cell_type": "code",
      "metadata": {
        "id": "nl5FrGHcrLy4"
      },
      "source": [
        "def validate_submission(submission, sample_submission):\n",
        "    if not isinstance(submission, dict):\n",
        "      print(\"Submission should be dict\")\n",
        "      return False\n",
        "\n",
        "    if not submission.keys() == sample_submission.keys():\n",
        "      print(\"Submission keys don't match\")\n",
        "      return False\n",
        "    \n",
        "    for key in submission:\n",
        "      sv = submission[key]\n",
        "      ssv = sample_submission[key]\n",
        "      if not len(sv) == len(ssv):\n",
        "        print(f\"Submission lengths of {key} doesn't match\")\n",
        "        return False\n",
        "    \n",
        "    for key, sv in submission.items():\n",
        "      if not all(isinstance(x, (np.int32, np.int64, int)) for x in list(sv)):\n",
        "        print(f\"Submission of {key} is not all integers\")\n",
        "        return False\n",
        "    \n",
        "    print(\"All tests passed\")\n",
        "    return True"
      ],
      "execution_count": 96,
      "outputs": []
    },
    {
      "cell_type": "code",
      "metadata": {
        "colab": {
          "base_uri": "https://localhost:8080/"
        },
        "id": "k_twyjQEyaUy",
        "outputId": "cd7204a3-91b6-469f-d50d-c31ea68945ef"
      },
      "source": [
        "validate_submission(submission, sample_submission)"
      ],
      "execution_count": 97,
      "outputs": [
        {
          "output_type": "stream",
          "text": [
            "All tests passed\n"
          ],
          "name": "stdout"
        },
        {
          "output_type": "execute_result",
          "data": {
            "text/plain": [
              "True"
            ]
          },
          "metadata": {
            "tags": []
          },
          "execution_count": 97
        }
      ]
    },
    {
      "cell_type": "markdown",
      "metadata": {
        "id": "nPfKXGb1vTRd"
      },
      "source": [
        "## Save the prediction as `npy` 📨"
      ]
    },
    {
      "cell_type": "code",
      "metadata": {
        "id": "1LkuPd5AvTRd"
      },
      "source": [
        "np.save(\"submission.npy\", submission)"
      ],
      "execution_count": 98,
      "outputs": []
    },
    {
      "cell_type": "markdown",
      "metadata": {
        "id": "aEZqmoHJJl4j"
      },
      "source": [
        "## Submit to AIcrowd 🚀"
      ]
    },
    {
      "cell_type": "code",
      "metadata": {
        "id": "yaUu2j8tCdZ1",
        "colab": {
          "base_uri": "https://localhost:8080/"
        },
        "outputId": "2b1926fc-ca57-4a2e-9973-2138e924c7b6"
      },
      "source": [
        "!aicrowd submission create -c mabe-task-1-classical-classification -f submission.npy"
      ],
      "execution_count": 99,
      "outputs": [
        {
          "output_type": "stream",
          "text": [
            "\u001b[2K\u001b[1;34msubmission.npy\u001b[0m \u001b[90m━━━━━━━━━━━━━━━━━━━━━━\u001b[0m \u001b[35m100.0%\u001b[0m • \u001b[32m65.4/65.4 MB\u001b[0m • \u001b[31m2.3 MB/s\u001b[0m • \u001b[36m0:00:00\u001b[0m\n",
            "\u001b[?25h                                                                    ╭─────────────────────────╮                                                                    \n",
            "                                                                    │ \u001b[1mSuccessfully submitted!\u001b[0m │                                                                    \n",
            "                                                                    ╰─────────────────────────╯                                                                    \n",
            "\u001b[3m                                                                          Important links                                                                          \u001b[0m\n",
            "┌──────────────────┬──────────────────────────────────────────────────────────────────────────────────────────────────────────────────────────────────────────────┐\n",
            "│  This submission │\u001b[1;94m \u001b[0m\u001b[1;94mhttps://www.aicrowd.com/challenges/multi-agent-behavior-representation-modeling-measurement-and-applications/submissions/125736             \u001b[0m\u001b[1;94m \u001b[0m│\n",
            "│                  │                                                                                                                                              │\n",
            "│  All submissions │\u001b[1;94m \u001b[0m\u001b[1;94mhttps://www.aicrowd.com/challenges/multi-agent-behavior-representation-modeling-measurement-and-applications/submissions?my_submissions=true\u001b[0m\u001b[1;94m \u001b[0m│\n",
            "│                  │                                                                                                                                              │\n",
            "│      Leaderboard │\u001b[1;94m \u001b[0m\u001b[1;94mhttps://www.aicrowd.com/challenges/multi-agent-behavior-representation-modeling-measurement-and-applications/leaderboards                   \u001b[0m\u001b[1;94m \u001b[0m│\n",
            "│                  │                                                                                                                                              │\n",
            "│ Discussion forum │\u001b[1;94m \u001b[0m\u001b[1;94mhttps://discourse.aicrowd.com/c/multi-agent-behavior-representation-modeling-measurement-and-applications                                   \u001b[0m\u001b[1;94m \u001b[0m│\n",
            "│                  │                                                                                                                                              │\n",
            "│   Challenge page │\u001b[1;94m \u001b[0m\u001b[1;94mhttps://www.aicrowd.com/challenges/multi-agent-behavior-representation-modeling-measurement-and-applications                                \u001b[0m\u001b[1;94m \u001b[0m│\n",
            "└──────────────────┴──────────────────────────────────────────────────────────────────────────────────────────────────────────────────────────────────────────────┘\n",
            "{'submission_id': 125736, 'created_at': '2021-03-10T12:04:37.853Z'}\n"
          ],
          "name": "stdout"
        }
      ]
    },
    {
      "cell_type": "code",
      "metadata": {
        "id": "aVeWnf_lCZQ3"
      },
      "source": [
        ""
      ],
      "execution_count": null,
      "outputs": []
    }
  ]
}
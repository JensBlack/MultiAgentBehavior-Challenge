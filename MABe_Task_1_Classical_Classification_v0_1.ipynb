{
  "nbformat": 4,
  "nbformat_minor": 0,
  "metadata": {
    "colab": {
      "name": "MABe Task 1: Classical Classification_v0.1",
      "provenance": [],
      "collapsed_sections": [
        "_WGK1pjV81oc"
      ],
      "toc_visible": true,
      "include_colab_link": true
    },
    "kernelspec": {
      "name": "python3",
      "display_name": "Python 3"
    }
  },
  "cells": [
    {
      "cell_type": "markdown",
      "metadata": {
        "id": "view-in-github",
        "colab_type": "text"
      },
      "source": [
        "<a href=\"https://colab.research.google.com/github/JensBlack/MultiAgentBehavior-Challenge/blob/main/MABe_Task_1_Classical_Classification_v0_1.ipynb\" target=\"_parent\"><img src=\"https://colab.research.google.com/assets/colab-badge.svg\" alt=\"Open In Colab\"/></a>"
      ]
    },
    {
      "cell_type": "markdown",
      "metadata": {
        "id": "LNzVqbnxvTRS"
      },
      "source": [
        "![AIcrowd-Logo](https://images.aicrowd.com/raw_images/challenges/banner_file/755/73708a8ac63b521cb3be.jpg)\n",
        "\n",
        "\n",
        "\n",
        "<p align=\"center\"> Join the communty! <br><a href=\"https://discord.gg/GTckBMx\"><img src=\"https://img.shields.io/discord/657211973435392011?style=for-the-badge\" alt=\"chat on Discord\"></a>\n",
        "</p>"
      ]
    },
    {
      "cell_type": "markdown",
      "metadata": {
        "id": "f4w4yZOfV5le"
      },
      "source": [
        "<h1> <center>\n",
        "🐀🐀🐀🐀🐀🐀🐀🐀🐀🐀🐀🐁🐁🐁🐁🐁🐁🐁🐁🐁🐁<br>\n",
        "🐀 MABe Classical Classification: Starter kit 🐁<br>\n",
        "🐀🐀🐀🐀🐀🐀🐀🐀🐀🐀🐀🐁🐁🐁🐁🐁🐁🐁🐁🐁🐁\n",
        "</center>\n",
        "</h1>\n",
        "\n",
        "<p align=\"center\"><img src=\"https://images.aicrowd.com/uploads/ckeditor/pictures/324/content_task1_structure.png\">\n",
        "</p>"
      ]
    },
    {
      "cell_type": "markdown",
      "metadata": {
        "id": "Ad-nu4cbF_fI"
      },
      "source": [
        "# How to use this notebook 📝\n",
        "\n",
        "1. **Copy the notebook**. This is a shared template and any edits you make here will not be saved. _You should copy it into your own drive folder._ For this, click the \"File\" menu (top-left), then \"Save a Copy in Drive\". You can edit your copy however you like.\n",
        "2. **Link it to your AIcrowd account**. In order to submit your predictions to AIcrowd, you need to provide your account's API key.\n",
        "\n"
      ]
    },
    {
      "cell_type": "markdown",
      "metadata": {
        "id": "fOsJQCoRvTRY"
      },
      "source": [
        "# Setup AIcrowd Utilities 🛠"
      ]
    },
    {
      "cell_type": "code",
      "metadata": {
        "id": "jCKS_X_KvTRY"
      },
      "source": [
        "!pip install -U aicrowd-cli==0.1 > /dev/null "
      ],
      "execution_count": null,
      "outputs": []
    },
    {
      "cell_type": "markdown",
      "metadata": {
        "id": "LuQQrNvkID8J"
      },
      "source": [
        "# Install packages 🗃\n",
        "\n",
        "Please add all pacakages installations in this section"
      ]
    },
    {
      "cell_type": "code",
      "metadata": {
        "id": "OPsQS64kIFIz",
        "colab": {
          "base_uri": "https://localhost:8080/"
        },
        "outputId": "387fb8fb-1fe7-4fc0-bdd6-1d02406e62bb"
      },
      "source": [
        "!pip install numpy pandas"
      ],
      "execution_count": null,
      "outputs": [
        {
          "output_type": "stream",
          "text": [
            "Requirement already satisfied: numpy in /usr/local/lib/python3.7/dist-packages (1.19.5)\n",
            "Requirement already satisfied: pandas in /usr/local/lib/python3.7/dist-packages (1.1.5)\n",
            "Requirement already satisfied: pytz>=2017.2 in /usr/local/lib/python3.7/dist-packages (from pandas) (2018.9)\n",
            "Requirement already satisfied: python-dateutil>=2.7.3 in /usr/local/lib/python3.7/dist-packages (from pandas) (2.8.1)\n",
            "Requirement already satisfied: six>=1.5 in /usr/local/lib/python3.7/dist-packages (from python-dateutil>=2.7.3->pandas) (1.15.0)\n"
          ],
          "name": "stdout"
        }
      ]
    },
    {
      "cell_type": "markdown",
      "metadata": {
        "id": "jsaWsU8dILfN"
      },
      "source": [
        "# Import necessary modules and packages 📚\n"
      ]
    },
    {
      "cell_type": "code",
      "metadata": {
        "id": "G4CVVoCjIN95"
      },
      "source": [
        "import pandas as pd\n",
        "import numpy as np\n",
        "import os"
      ],
      "execution_count": null,
      "outputs": []
    },
    {
      "cell_type": "markdown",
      "metadata": {
        "id": "KwykJ9kzvTRZ"
      },
      "source": [
        "# Download the dataset 📲\n",
        "\n",
        "Please get your API key from https://www.aicrowd.com/participants/me\n"
      ]
    },
    {
      "cell_type": "code",
      "metadata": {
        "id": "ekJZdhqrvTRa",
        "colab": {
          "base_uri": "https://localhost:8080/"
        },
        "outputId": "27d717fe-f0e4-4719-e78a-aec919f36509"
      },
      "source": [
        "API_KEY = \"0a318adc55b35d126bcabfb535e0dfda\"\n",
        "!aicrowd login --api-key $API_KEY"
      ],
      "execution_count": null,
      "outputs": [
        {
          "output_type": "stream",
          "text": [
            "\u001b[32mAPI Key valid\u001b[0m\n",
            "\u001b[32mSaved API Key successfully!\u001b[0m\n"
          ],
          "name": "stdout"
        }
      ]
    },
    {
      "cell_type": "code",
      "metadata": {
        "id": "FwZgcLsNDej_",
        "colab": {
          "base_uri": "https://localhost:8080/"
        },
        "outputId": "5f25e042-9922-4cff-9565-c9a05ec51b5a"
      },
      "source": [
        "!aicrowd dataset download --challenge mabe-task-1-classical-classification"
      ],
      "execution_count": null,
      "outputs": [
        {
          "output_type": "stream",
          "text": [
            "train.npy: 100% 118M/118M [00:06<00:00, 17.7MB/s]\n",
            "sample-submission.npy: 100% 65.4M/65.4M [00:04<00:00, 15.9MB/s]\n",
            "test-release.npy: 100% 1.83G/1.83G [01:41<00:00, 18.1MB/s]\n"
          ],
          "name": "stdout"
        }
      ]
    },
    {
      "cell_type": "markdown",
      "metadata": {
        "id": "Md4em-KzIofe"
      },
      "source": [
        "Extract the downloaded dataset to `data` directory\n"
      ]
    },
    {
      "cell_type": "code",
      "metadata": {
        "id": "jXNMUq-UVc8E"
      },
      "source": [
        "!rm -rf data\n",
        "!mkdir data\n",
        " \n",
        "!mv train.npy data/train.npy\n",
        "!mv test-release.npy data/test.npy\n",
        "!mv sample-submission.npy data/sample_submission.npy"
      ],
      "execution_count": null,
      "outputs": []
    },
    {
      "cell_type": "markdown",
      "metadata": {
        "id": "7MLxouZUvTRa"
      },
      "source": [
        "# Load Data\n",
        "The dataset files are python dictionaries, [this](https://colab.research.google.com/drive/1ddCX-TAdEcsUaGf09f5Glgr_G57FMK_O#scrollTo=JPsfxdl2GMcM&line=18&uniqifier=1) is a descirption of how the data is organized.\n",
        "\n"
      ]
    },
    {
      "cell_type": "code",
      "metadata": {
        "id": "RopVoFl1vTRb"
      },
      "source": [
        "train = np.load('data/train.npy',allow_pickle=True).item()\n",
        "test = np.load('data/test.npy',allow_pickle=True).item()\n",
        "sample_submission = np.load('data/sample_submission.npy',allow_pickle=True).item()"
      ],
      "execution_count": null,
      "outputs": []
    },
    {
      "cell_type": "markdown",
      "metadata": {
        "id": "YFcS9p3haBkK"
      },
      "source": [
        "## Dataset Specifications 💾\n",
        "\n",
        "-   **`train.npy`** - Training set for the task, which follows the following schema:\n",
        "\n",
        "<p align=\"left\" style=\"padding: 30px\">&nbsp;&nbsp;&nbsp;&nbsp;&nbsp;&nbsp;&nbsp;&nbsp;&nbsp;&nbsp;&nbsp;<img width=\"600px\" src=\"https://i.imgur.com/GddvoT2.png\">\n",
        "</p>\n",
        "\n",
        "\n",
        "-   **`test-release.npy`** - Test set for the task, which follows the following schema :\n",
        "\n",
        "<p align=\"left\" style=\"padding: 30px\">&nbsp;&nbsp;&nbsp;&nbsp;&nbsp;&nbsp;&nbsp;&nbsp;&nbsp;&nbsp;&nbsp;<img width=\"600px\" src=\"https://i.imgur.com/vfa8Y4V.png\">\n",
        "</p>\n",
        "\n",
        "-   **`sample_submission.npy`** - Template for a sample submission which follows the following schema\n",
        "\n",
        "```json\n",
        "{\n",
        "    \"<sequence_id-1>\" : [0, 0, 1, 2, ...],\n",
        "    \"<sequence_id-2>\" : [0, 1, 2, 0, ...]\n",
        "}\n",
        "```\n",
        "\n",
        "Each key in the dictionary here refers to the unique sequence id obtained for the sequences in the test set.\n",
        "The value for each of the keys is expected to hold a list of corresponing annotations. The annotations are represented by the index of the corresponding annotation words in the vocabular provided in the test set."
      ]
    },
    {
      "cell_type": "markdown",
      "metadata": {
        "id": "JUkb35tcf4bn"
      },
      "source": [
        "## How does the data look like? 🔍\n",
        "\n",
        "### Data overview"
      ]
    },
    {
      "cell_type": "code",
      "metadata": {
        "colab": {
          "base_uri": "https://localhost:8080/"
        },
        "id": "CYIC5DW_oRPb",
        "outputId": "90e500d3-9821-41c1-f610-03c16a5d450e"
      },
      "source": [
        "print(\"Dataset keys - \", train.keys())\n",
        "print(\"Vocabulary - \", train['vocabulary'])\n",
        "print(\"Number of train Sequences - \", len(train['sequences']))\n",
        "print(\"Number of test Sequences - \", len(test['sequences']))"
      ],
      "execution_count": null,
      "outputs": [
        {
          "output_type": "stream",
          "text": [
            "Dataset keys -  dict_keys(['vocabulary', 'sequences'])\n",
            "Vocabulary -  {'attack': 0, 'investigation': 1, 'mount': 2, 'other': 3}\n",
            "Number of train Sequences -  70\n",
            "Number of test Sequences -  458\n"
          ],
          "name": "stdout"
        }
      ]
    },
    {
      "cell_type": "markdown",
      "metadata": {
        "id": "luUly4Y1i4L-"
      },
      "source": [
        "### Sample overview"
      ]
    },
    {
      "cell_type": "code",
      "metadata": {
        "colab": {
          "base_uri": "https://localhost:8080/"
        },
        "id": "Hh9dj4wG3rV0",
        "outputId": "fbdae1c5-4caa-446f-b62d-4eb81387faa8"
      },
      "source": [
        "sequence_names = list(train[\"sequences\"].keys())\n",
        "sequence_key = sequence_names[0]\n",
        "single_sequence = train[\"sequences\"][sequence_key]\n",
        "print(\"Sequence name - \", sequence_key)\n",
        "print(\"Single Sequence keys \", single_sequence.keys())\n",
        "print(f\"Number of Frames in {sequence_key} - \", len(single_sequence['annotations']))\n",
        "print(f\"Keypoints data shape of {sequence_key} - \", single_sequence['keypoints'].shape)\n",
        "print(f\"annotator_id of {sequence_key} - \", single_sequence['annotator_id'])"
      ],
      "execution_count": null,
      "outputs": [
        {
          "output_type": "stream",
          "text": [
            "Sequence name -  1cac195d39\n",
            "Single Sequence keys  dict_keys(['keypoints', 'annotator_id', 'annotations'])\n",
            "Number of Frames in 1cac195d39 -  4879\n",
            "Keypoints data shape of 1cac195d39 -  (4879, 2, 2, 7)\n",
            "annotator_id of 1cac195d39 -  0\n"
          ],
          "name": "stdout"
        }
      ]
    },
    {
      "cell_type": "markdown",
      "metadata": {
        "id": "_WGK1pjV81oc"
      },
      "source": [
        "# Helper function for visualization 💁\n",
        "\n",
        "\n",
        "\n",
        "\n",
        "Don't forget to run the cell 😉"
      ]
    },
    {
      "cell_type": "code",
      "metadata": {
        "id": "kf7CXiH85odZ"
      },
      "source": [
        "import matplotlib.pyplot as plt\n",
        "from matplotlib import animation\n",
        "from matplotlib import colors\n",
        "from matplotlib import rc\n",
        " \n",
        "rc('animation', html='jshtml')\n",
        " \n",
        "# Note: Image processing may be slow if too many frames are animated.                \n",
        " \n",
        "#Plotting constants\n",
        "FRAME_WIDTH_TOP = 1024\n",
        "FRAME_HEIGHT_TOP = 570\n",
        " \n",
        "RESIDENT_COLOR = 'lawngreen'\n",
        "INTRUDER_COLOR = 'skyblue'\n",
        " \n",
        "PLOT_MOUSE_START_END = [(0, 1), (0, 2), (1, 3), (2, 3), (3, 4),\n",
        "                        (3, 5), (4, 6), (5, 6), (1, 2)]\n",
        " \n",
        "class_to_color = {'other': 'white', 'attack' : 'red', 'mount' : 'green',\n",
        "                  'investigation': 'orange'}\n",
        " \n",
        "class_to_number = {s: i for i, s in enumerate(train['vocabulary'])}\n",
        " \n",
        "number_to_class = {i: s for i, s in enumerate(train['vocabulary'])}\n",
        " \n",
        "def num_to_text(anno_list):\n",
        "  return np.vectorize(number_to_class.get)(anno_list)\n",
        " \n",
        "def set_figax():\n",
        "    fig = plt.figure(figsize=(6, 4))\n",
        " \n",
        "    img = np.zeros((FRAME_HEIGHT_TOP, FRAME_WIDTH_TOP, 3))\n",
        " \n",
        "    ax = fig.add_subplot(111)\n",
        "    ax.imshow(img)\n",
        " \n",
        "    ax.get_xaxis().set_visible(False)\n",
        "    ax.get_yaxis().set_visible(False)\n",
        " \n",
        "    return fig, ax\n",
        " \n",
        "def plot_mouse(ax, pose, color):\n",
        "    # Draw each keypoint\n",
        "    for j in range(7):\n",
        "        ax.plot(pose[j, 0], pose[j, 1], 'o', color=color, markersize=5)\n",
        " \n",
        "    # Draw a line for each point pair to form the shape of the mouse\n",
        " \n",
        "    for pair in PLOT_MOUSE_START_END:\n",
        "        line_to_plot = pose[pair, :]\n",
        "        ax.plot(line_to_plot[:, 0], line_to_plot[\n",
        "                :, 1], color=color, linewidth=1)\n",
        " \n",
        "def animate_pose_sequence(video_name, keypoint_sequence, start_frame = 0, stop_frame = 100, \n",
        "                          annotation_sequence = None):\n",
        "    # Returns the animation of the keypoint sequence between start frame\n",
        "    # and stop frame. Optionally can display annotations.\n",
        "    seq = keypoint_sequence.transpose((0,1,3,2))\n",
        " \n",
        "    image_list = []\n",
        "    \n",
        "    counter = 0\n",
        "    for j in range(start_frame, stop_frame):\n",
        "        if counter%20 == 0:\n",
        "          print(\"Processing frame \", j)\n",
        "        fig, ax = set_figax()\n",
        "        plot_mouse(ax, seq[j, 0, :, :], color=RESIDENT_COLOR)\n",
        "        plot_mouse(ax, seq[j, 1, :, :], color=INTRUDER_COLOR)\n",
        "        \n",
        "        if annotation_sequence is not None:\n",
        "          annot = annotation_sequence[j]\n",
        "          annot = number_to_class[annot]\n",
        "          plt.text(50, -20, annot, fontsize = 16, \n",
        "                   bbox=dict(facecolor=class_to_color[annot], alpha=0.5))\n",
        " \n",
        "        ax.set_title(\n",
        "            video_name + '\\n frame {:03d}.png'.format(j))\n",
        " \n",
        "        ax.axis('off')\n",
        "        fig.tight_layout(pad=0)\n",
        "        ax.margins(0)\n",
        " \n",
        "        fig.canvas.draw()\n",
        "        image_from_plot = np.frombuffer(fig.canvas.tostring_rgb(),\n",
        "                                        dtype=np.uint8)\n",
        "        image_from_plot = image_from_plot.reshape(\n",
        "            fig.canvas.get_width_height()[::-1] + (3,)) \n",
        " \n",
        "        image_list.append(image_from_plot)\n",
        " \n",
        "        plt.close()\n",
        "        counter = counter + 1\n",
        " \n",
        "    # Plot animation.\n",
        "    fig = plt.figure()\n",
        "    plt.axis('off')\n",
        "    im = plt.imshow(image_list[0])\n",
        " \n",
        "    def animate(k):\n",
        "        im.set_array(image_list[k])\n",
        "        return im,\n",
        "    ani = animation.FuncAnimation(fig, animate, frames=len(image_list), blit=True)\n",
        "    return ani\n",
        " \n",
        "def plot_annotation_strip(annotation_sequence, start_frame = 0, stop_frame = 100, title=\"Behavior Labels\"):\n",
        "  # Plot annotations as a annotation strip.\n",
        " \n",
        "  # Map annotations to a number.\n",
        "  annotation_num = []\n",
        "  for item in annotation_sequence[start_frame:stop_frame]:\n",
        "    annotation_num.append(class_to_number[item])\n",
        " \n",
        "  all_classes = list(set(annotation_sequence[start_frame:stop_frame]))\n",
        " \n",
        "  cmap = colors.ListedColormap(['red', 'orange', 'green', 'white'])\n",
        "  bounds=[-0.5,0.5,1.5, 2.5, 3.5]\n",
        "  norm = colors.BoundaryNorm(bounds, cmap.N)\n",
        " \n",
        "  height = 200\n",
        "  arr_to_plot = np.repeat(np.array(annotation_num)[:,np.newaxis].transpose(),\n",
        "                                                  height, axis = 0)\n",
        "  \n",
        "  fig, ax = plt.subplots(figsize = (16, 3))\n",
        "  ax.imshow(arr_to_plot, interpolation = 'none',cmap=cmap, norm=norm)\n",
        " \n",
        "  ax.set_yticks([])\n",
        "  ax.set_xlabel('Frame Number')\n",
        "  plt.title(title)\n",
        " \n",
        "  import matplotlib.patches as mpatches\n",
        " \n",
        "  legend_patches = []\n",
        "  for item in all_classes:\n",
        "    legend_patches.append(mpatches.Patch(color=class_to_color[item], label=item))\n",
        " \n",
        "  plt.legend(handles=legend_patches,loc='center left', bbox_to_anchor=(1, 0.5))\n",
        " \n",
        "  plt.tight_layout()"
      ],
      "execution_count": null,
      "outputs": []
    },
    {
      "cell_type": "markdown",
      "metadata": {
        "id": "p7WPezuV86QA"
      },
      "source": [
        "# Visualize the mouse movements🎥\n",
        "\n",
        "Sample visualization for plotting pose gifs."
      ]
    },
    {
      "cell_type": "code",
      "metadata": {
        "colab": {
          "base_uri": "https://localhost:8080/",
          "height": 212
        },
        "id": "JoqaPWYM9gdi",
        "outputId": "d397bafa-af69-47ff-e009-3a1882f611f7"
      },
      "source": [
        "vocabulary = train['vocabulary']\n",
        "def get_percentage(sequence_key):\n",
        "  anno_seq = num_to_text(train['sequences'][sequence_key]['annotations'])\n",
        "  counts = {k: np.mean(np.array(anno_seq) == k) for k in vocabulary}\n",
        "  return counts\n",
        "\n",
        "anno_percentages = {k: get_percentage(k) for k in train['sequences']}\n",
        "\n",
        "anno_perc_df = pd.DataFrame(anno_percentages).T\n",
        "print(\"Percentage of frames in every sequence for every class\")\n",
        "anno_perc_df.head()"
      ],
      "execution_count": null,
      "outputs": [
        {
          "output_type": "stream",
          "text": [
            "Percentage of frames in every sequence for every class\n"
          ],
          "name": "stdout"
        },
        {
          "output_type": "execute_result",
          "data": {
            "text/html": [
              "<div>\n",
              "<style scoped>\n",
              "    .dataframe tbody tr th:only-of-type {\n",
              "        vertical-align: middle;\n",
              "    }\n",
              "\n",
              "    .dataframe tbody tr th {\n",
              "        vertical-align: top;\n",
              "    }\n",
              "\n",
              "    .dataframe thead th {\n",
              "        text-align: right;\n",
              "    }\n",
              "</style>\n",
              "<table border=\"1\" class=\"dataframe\">\n",
              "  <thead>\n",
              "    <tr style=\"text-align: right;\">\n",
              "      <th></th>\n",
              "      <th>attack</th>\n",
              "      <th>investigation</th>\n",
              "      <th>mount</th>\n",
              "      <th>other</th>\n",
              "    </tr>\n",
              "  </thead>\n",
              "  <tbody>\n",
              "    <tr>\n",
              "      <th>1cac195d39</th>\n",
              "      <td>0.000000</td>\n",
              "      <td>0.077885</td>\n",
              "      <td>0.033818</td>\n",
              "      <td>0.888297</td>\n",
              "    </tr>\n",
              "    <tr>\n",
              "      <th>b40d39ca72</th>\n",
              "      <td>0.000000</td>\n",
              "      <td>0.624592</td>\n",
              "      <td>0.000000</td>\n",
              "      <td>0.375408</td>\n",
              "    </tr>\n",
              "    <tr>\n",
              "      <th>f45694e6b9</th>\n",
              "      <td>0.000000</td>\n",
              "      <td>0.375125</td>\n",
              "      <td>0.000000</td>\n",
              "      <td>0.624875</td>\n",
              "    </tr>\n",
              "    <tr>\n",
              "      <th>9212f26324</th>\n",
              "      <td>0.015467</td>\n",
              "      <td>0.112307</td>\n",
              "      <td>0.000000</td>\n",
              "      <td>0.872226</td>\n",
              "    </tr>\n",
              "    <tr>\n",
              "      <th>5490af36aa</th>\n",
              "      <td>0.438260</td>\n",
              "      <td>0.285662</td>\n",
              "      <td>0.010321</td>\n",
              "      <td>0.265757</td>\n",
              "    </tr>\n",
              "  </tbody>\n",
              "</table>\n",
              "</div>"
            ],
            "text/plain": [
              "              attack  investigation     mount     other\n",
              "1cac195d39  0.000000       0.077885  0.033818  0.888297\n",
              "b40d39ca72  0.000000       0.624592  0.000000  0.375408\n",
              "f45694e6b9  0.000000       0.375125  0.000000  0.624875\n",
              "9212f26324  0.015467       0.112307  0.000000  0.872226\n",
              "5490af36aa  0.438260       0.285662  0.010321  0.265757"
            ]
          },
          "metadata": {
            "tags": []
          },
          "execution_count": 17
        }
      ]
    },
    {
      "cell_type": "markdown",
      "metadata": {
        "id": "QcGC3YGTU_9X"
      },
      "source": [
        "## Percentage Frames of all behaviors\n",
        "Lets look at the class imbalance"
      ]
    },
    {
      "cell_type": "code",
      "metadata": {
        "colab": {
          "base_uri": "https://localhost:8080/",
          "height": 166
        },
        "id": "1HFOPsoF_LAy",
        "outputId": "1426501d-b943-48ac-9b23-6c1835cc5d88"
      },
      "source": [
        "all_annotations = []\n",
        "for sk in train['sequences']:\n",
        "  anno = train['sequences'][sk]['annotations']\n",
        "  all_annotations.extend(list(anno))\n",
        "all_annotations = num_to_text(all_annotations)\n",
        "classes, counts = np.unique(all_annotations, return_counts=True)\n",
        "pd.DataFrame({\"Behavior\": classes,\n",
        "              \"Percentage Frames\": counts/len(all_annotations)})"
      ],
      "execution_count": null,
      "outputs": [
        {
          "output_type": "execute_result",
          "data": {
            "text/html": [
              "<div>\n",
              "<style scoped>\n",
              "    .dataframe tbody tr th:only-of-type {\n",
              "        vertical-align: middle;\n",
              "    }\n",
              "\n",
              "    .dataframe tbody tr th {\n",
              "        vertical-align: top;\n",
              "    }\n",
              "\n",
              "    .dataframe thead th {\n",
              "        text-align: right;\n",
              "    }\n",
              "</style>\n",
              "<table border=\"1\" class=\"dataframe\">\n",
              "  <thead>\n",
              "    <tr style=\"text-align: right;\">\n",
              "      <th></th>\n",
              "      <th>Behavior</th>\n",
              "      <th>Percentage Frames</th>\n",
              "    </tr>\n",
              "  </thead>\n",
              "  <tbody>\n",
              "    <tr>\n",
              "      <th>0</th>\n",
              "      <td>attack</td>\n",
              "      <td>0.027650</td>\n",
              "    </tr>\n",
              "    <tr>\n",
              "      <th>1</th>\n",
              "      <td>investigation</td>\n",
              "      <td>0.288761</td>\n",
              "    </tr>\n",
              "    <tr>\n",
              "      <th>2</th>\n",
              "      <td>mount</td>\n",
              "      <td>0.056358</td>\n",
              "    </tr>\n",
              "    <tr>\n",
              "      <th>3</th>\n",
              "      <td>other</td>\n",
              "      <td>0.627231</td>\n",
              "    </tr>\n",
              "  </tbody>\n",
              "</table>\n",
              "</div>"
            ],
            "text/plain": [
              "        Behavior  Percentage Frames\n",
              "0         attack           0.027650\n",
              "1  investigation           0.288761\n",
              "2          mount           0.056358\n",
              "3          other           0.627231"
            ]
          },
          "metadata": {
            "tags": []
          },
          "execution_count": 18
        }
      ]
    },
    {
      "cell_type": "markdown",
      "metadata": {
        "id": "elMM0KzraDFR"
      },
      "source": [
        "# Extract Features\r\n"
      ]
    },
    {
      "cell_type": "code",
      "metadata": {
        "id": "nV0buaofaH5x"
      },
      "source": [
        "#helper function\r\n",
        "def convert_bodyparts_to_column_multiindex(bodyparts,number_of_animals=1):\r\n",
        "\r\n",
        "    \"\"\"Takes list of str as input and converts it to DLstreams multiindexing with form ('Animal X', 'bodypart', 'X'/'Y')\"\"\"\r\n",
        "\r\n",
        "    bp_columns = []\r\n",
        "    for number in range(1,number_of_animals + 1):\r\n",
        "        animal_str = 'Animal{}'.format(number)\r\n",
        "        for bp in bodyparts:\r\n",
        "            bp_columns.append((animal_str,bp,'x'))\r\n",
        "            bp_columns.append((animal_str,bp,'y'))\r\n",
        "    return bp_columns\r\n"
      ],
      "execution_count": null,
      "outputs": []
    },
    {
      "cell_type": "code",
      "metadata": {
        "id": "GZ7og_NkZ-cv"
      },
      "source": [
        "sequence_names = list(train[\"sequences\"].keys())\r\n",
        "sequence_key = sequence_names[0]\r\n",
        "single_sequence = train[\"sequences\"][sequence_key]\r\n",
        "single_keypoints = single_sequence['keypoints']\r\n",
        "single_annotations = single_sequence['annotations']\r\n",
        "\r\n",
        "single_keypoints.reshape(single_keypoints[0], single_keypoints[1]*single_keypoints[2]*single_keypoints[3])\r\n"
      ],
      "execution_count": null,
      "outputs": []
    },
    {
      "cell_type": "code",
      "metadata": {
        "id": "ccYCvbIoaAXm"
      },
      "source": [
        "#convert to pd.DataFrame format\r\n",
        "\r\n",
        "keypoint_names = ['nose', 'ear_left', 'ear_right', 'neck', 'hip_left', 'hip_right', 'tail_base']\r\n",
        "clm_names = convert_bodyparts_to_column_multiindex(keypoints_names, 2)\r\n",
        "keypoints_idx = pd.MultiIndex.from_product(clm_names, names=['animal','keypoints','coords'])\r\n",
        "\r\n",
        "df_single_keypoints = pd.DataFrame(single_keypoints, columns = keypoints_idx)\r\n",
        "df_single_keypoints"
      ],
      "execution_count": null,
      "outputs": []
    },
    {
      "cell_type": "markdown",
      "metadata": {
        "id": "_2kcK9MiZ-Q8"
      },
      "source": [
        ""
      ]
    },
    {
      "cell_type": "markdown",
      "metadata": {
        "id": "8Tm47a7k759J"
      },
      "source": [
        "# Generate predictions 💪"
      ]
    },
    {
      "cell_type": "code",
      "metadata": {
        "id": "XG55GOAHrY6r"
      },
      "source": [
        "# Generating Random Predictions\n",
        "submission = {}\n",
        "test = np.load('data/test.npy',allow_pickle=True).item()\n",
        "for sequence_id, sequence in test[\"sequences\"].items():\n",
        "  keypoint_sequence = sequence['keypoints']\n",
        "  submission[sequence_id] = np.random.randint(4, size=len(sequence['keypoints']))"
      ],
      "execution_count": null,
      "outputs": []
    },
    {
      "cell_type": "markdown",
      "metadata": {
        "id": "zZYfbeJIrNt9"
      },
      "source": [
        "## Validate the submission ✅\n",
        "The submssion should follow these constraints:\n",
        "\n",
        "1.   It should be a dictionary\n",
        "2.   It should be have same keys as sample_submission\n",
        "3.   The lengths of the arrays are same\n",
        "4.   All values are intergers\n",
        "\n",
        "You can use the helper function below to check these\n",
        "\n"
      ]
    },
    {
      "cell_type": "code",
      "metadata": {
        "id": "nl5FrGHcrLy4"
      },
      "source": [
        "def validate_submission(submission, sample_submission):\n",
        "    if not isinstance(submission, dict):\n",
        "      print(\"Submission should be dict\")\n",
        "      return False\n",
        "\n",
        "    if not submission.keys() == sample_submission.keys():\n",
        "      print(\"Submission keys don't match\")\n",
        "      return False\n",
        "    \n",
        "    for key in submission:\n",
        "      sv = submission[key]\n",
        "      ssv = sample_submission[key]\n",
        "      if not len(sv) == len(ssv):\n",
        "        print(f\"Submission lengths of {key} doesn't match\")\n",
        "        return False\n",
        "    \n",
        "    for key, sv in submission.items():\n",
        "      if not all(isinstance(x, (np.int32, np.int64, int)) for x in list(sv)):\n",
        "        print(f\"Submission of {key} is not all integers\")\n",
        "        return False\n",
        "    \n",
        "    print(\"All tests passed\")\n",
        "    return True"
      ],
      "execution_count": null,
      "outputs": []
    },
    {
      "cell_type": "code",
      "metadata": {
        "colab": {
          "base_uri": "https://localhost:8080/"
        },
        "id": "k_twyjQEyaUy",
        "outputId": "9dfe798b-f563-4607-d758-b683013345bf"
      },
      "source": [
        "validate_submission(submission, sample_submission)"
      ],
      "execution_count": null,
      "outputs": [
        {
          "output_type": "stream",
          "text": [
            "All tests passed\n"
          ],
          "name": "stdout"
        },
        {
          "output_type": "execute_result",
          "data": {
            "text/plain": [
              "True"
            ]
          },
          "metadata": {
            "tags": []
          },
          "execution_count": 44
        }
      ]
    },
    {
      "cell_type": "markdown",
      "metadata": {
        "id": "nPfKXGb1vTRd"
      },
      "source": [
        "## Save the prediction as `npy` 📨"
      ]
    },
    {
      "cell_type": "code",
      "metadata": {
        "id": "1LkuPd5AvTRd"
      },
      "source": [
        "np.save(\"submission.npy\", submission)"
      ],
      "execution_count": null,
      "outputs": []
    },
    {
      "cell_type": "markdown",
      "metadata": {
        "id": "aEZqmoHJJl4j"
      },
      "source": [
        "## Submit to AIcrowd 🚀"
      ]
    },
    {
      "cell_type": "code",
      "metadata": {
        "id": "yaUu2j8tCdZ1",
        "colab": {
          "base_uri": "https://localhost:8080/"
        },
        "outputId": "a710f0ea-b748-461e-f66a-543494a784ec"
      },
      "source": [
        "!aicrowd submission create -c mabe-task-1-classical-classification -f submission.npy"
      ],
      "execution_count": null,
      "outputs": [
        {
          "output_type": "stream",
          "text": [
            "\u001b[2K\u001b[1;34msubmission.npy\u001b[0m \u001b[90m━━━━━━━━━━━━━━━━━━━━━━━━\u001b[0m \u001b[35m100.0%\u001b[0m • \u001b[32m3.9/3.9 MB\u001b[0m • \u001b[31m1.5 MB/s\u001b[0m • \u001b[36m0:00:00\u001b[0m\n",
            "\u001b[?25h                                                                    ╭─────────────────────────╮                                                                    \n",
            "                                                                    │ \u001b[1mSuccessfully submitted!\u001b[0m │                                                                    \n",
            "                                                                    ╰─────────────────────────╯                                                                    \n",
            "\u001b[3m                                                                          Important links                                                                          \u001b[0m\n",
            "┌──────────────────┬──────────────────────────────────────────────────────────────────────────────────────────────────────────────────────────────────────────────┐\n",
            "│  This submission │\u001b[1;94m \u001b[0m\u001b[1;94mhttps://www.aicrowd.com/challenges/multi-agent-behavior-representation-modeling-measurement-and-applications/submissions/125070             \u001b[0m\u001b[1;94m \u001b[0m│\n",
            "│                  │                                                                                                                                              │\n",
            "│  All submissions │\u001b[1;94m \u001b[0m\u001b[1;94mhttps://www.aicrowd.com/challenges/multi-agent-behavior-representation-modeling-measurement-and-applications/submissions?my_submissions=true\u001b[0m\u001b[1;94m \u001b[0m│\n",
            "│                  │                                                                                                                                              │\n",
            "│      Leaderboard │\u001b[1;94m \u001b[0m\u001b[1;94mhttps://www.aicrowd.com/challenges/multi-agent-behavior-representation-modeling-measurement-and-applications/leaderboards                   \u001b[0m\u001b[1;94m \u001b[0m│\n",
            "│                  │                                                                                                                                              │\n",
            "│ Discussion forum │\u001b[1;94m \u001b[0m\u001b[1;94mhttps://discourse.aicrowd.com/c/multi-agent-behavior-representation-modeling-measurement-and-applications                                   \u001b[0m\u001b[1;94m \u001b[0m│\n",
            "│                  │                                                                                                                                              │\n",
            "│   Challenge page │\u001b[1;94m \u001b[0m\u001b[1;94mhttps://www.aicrowd.com/challenges/multi-agent-behavior-representation-modeling-measurement-and-applications                                \u001b[0m\u001b[1;94m \u001b[0m│\n",
            "└──────────────────┴──────────────────────────────────────────────────────────────────────────────────────────────────────────────────────────────────────────────┘\n",
            "{'submission_id': 125070, 'created_at': '2021-03-06T00:57:07.306Z'}\n"
          ],
          "name": "stdout"
        }
      ]
    },
    {
      "cell_type": "code",
      "metadata": {
        "id": "aVeWnf_lCZQ3"
      },
      "source": [
        ""
      ],
      "execution_count": null,
      "outputs": []
    }
  ]
}
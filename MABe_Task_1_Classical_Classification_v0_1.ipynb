{
  "nbformat": 4,
  "nbformat_minor": 0,
  "metadata": {
    "colab": {
      "name": "MABe Task 1: Classical Classification_v0.1",
      "provenance": [],
      "collapsed_sections": [
        "_WGK1pjV81oc"
      ],
      "toc_visible": true,
      "include_colab_link": true
    },
    "kernelspec": {
      "name": "python3",
      "display_name": "Python 3"
    }
  },
  "cells": [
    {
      "cell_type": "markdown",
      "metadata": {
        "id": "view-in-github",
        "colab_type": "text"
      },
      "source": [
        "<a href=\"https://colab.research.google.com/github/JensBlack/MultiAgentBehavior-Challenge/blob/main/MABe_Task_1_Classical_Classification_v0_1.ipynb\" target=\"_parent\"><img src=\"https://colab.research.google.com/assets/colab-badge.svg\" alt=\"Open In Colab\"/></a>"
      ]
    },
    {
      "cell_type": "markdown",
      "metadata": {
        "id": "LNzVqbnxvTRS"
      },
      "source": [
        "![AIcrowd-Logo](https://images.aicrowd.com/raw_images/challenges/banner_file/755/73708a8ac63b521cb3be.jpg)\n",
        "\n",
        "\n",
        "\n",
        "<p align=\"center\"> Join the communty! <br><a href=\"https://discord.gg/GTckBMx\"><img src=\"https://img.shields.io/discord/657211973435392011?style=for-the-badge\" alt=\"chat on Discord\"></a>\n",
        "</p>"
      ]
    },
    {
      "cell_type": "markdown",
      "metadata": {
        "id": "f4w4yZOfV5le"
      },
      "source": [
        "<h1> <center>\n",
        "🐀🐀🐀🐀🐀🐀🐀🐀🐀🐀🐀🐁🐁🐁🐁🐁🐁🐁🐁🐁🐁<br>\n",
        "🐀 MABe Classical Classification: Starter kit 🐁<br>\n",
        "🐀🐀🐀🐀🐀🐀🐀🐀🐀🐀🐀🐁🐁🐁🐁🐁🐁🐁🐁🐁🐁\n",
        "</center>\n",
        "</h1>\n",
        "\n",
        "<p align=\"center\"><img src=\"https://images.aicrowd.com/uploads/ckeditor/pictures/324/content_task1_structure.png\">\n",
        "</p>"
      ]
    },
    {
      "cell_type": "markdown",
      "metadata": {
        "id": "fOsJQCoRvTRY"
      },
      "source": [
        "# Setup AIcrowd Utilities 🛠"
      ]
    },
    {
      "cell_type": "code",
      "metadata": {
        "id": "jCKS_X_KvTRY"
      },
      "source": [
        "!pip install -U aicrowd-cli==0.1 > /dev/null "
      ],
      "execution_count": 1,
      "outputs": []
    },
    {
      "cell_type": "markdown",
      "metadata": {
        "id": "LuQQrNvkID8J"
      },
      "source": [
        "# Install packages 🗃\n",
        "\n",
        "Please add all pacakages installations in this section"
      ]
    },
    {
      "cell_type": "code",
      "metadata": {
        "id": "OPsQS64kIFIz",
        "colab": {
          "base_uri": "https://localhost:8080/"
        },
        "outputId": "c086d617-75c5-48a4-adfa-7609a955ead0"
      },
      "source": [
        "!pip install numpy pandas"
      ],
      "execution_count": 2,
      "outputs": [
        {
          "output_type": "stream",
          "text": [
            "Requirement already satisfied: numpy in /usr/local/lib/python3.7/dist-packages (1.19.5)\n",
            "Requirement already satisfied: pandas in /usr/local/lib/python3.7/dist-packages (1.1.5)\n",
            "Requirement already satisfied: pytz>=2017.2 in /usr/local/lib/python3.7/dist-packages (from pandas) (2018.9)\n",
            "Requirement already satisfied: python-dateutil>=2.7.3 in /usr/local/lib/python3.7/dist-packages (from pandas) (2.8.1)\n",
            "Requirement already satisfied: six>=1.5 in /usr/local/lib/python3.7/dist-packages (from python-dateutil>=2.7.3->pandas) (1.15.0)\n"
          ],
          "name": "stdout"
        }
      ]
    },
    {
      "cell_type": "markdown",
      "metadata": {
        "id": "jsaWsU8dILfN"
      },
      "source": [
        "# Import necessary modules and packages 📚\n"
      ]
    },
    {
      "cell_type": "code",
      "metadata": {
        "id": "G4CVVoCjIN95"
      },
      "source": [
        "import pandas as pd\n",
        "import numpy as np\n",
        "import os\n",
        "from copy import deepcopy"
      ],
      "execution_count": 14,
      "outputs": []
    },
    {
      "cell_type": "markdown",
      "metadata": {
        "id": "KwykJ9kzvTRZ"
      },
      "source": [
        "# Download the dataset 📲\n",
        "\n",
        "Please get your API key from https://www.aicrowd.com/participants/me\n"
      ]
    },
    {
      "cell_type": "code",
      "metadata": {
        "id": "ekJZdhqrvTRa",
        "colab": {
          "base_uri": "https://localhost:8080/"
        },
        "outputId": "ccc12ef7-e630-41c4-ea81-6b07e6e61a08"
      },
      "source": [
        "API_KEY = \"0a318adc55b35d126bcabfb535e0dfda\"\n",
        "!aicrowd login --api-key $API_KEY"
      ],
      "execution_count": 4,
      "outputs": [
        {
          "output_type": "stream",
          "text": [
            "\u001b[32mAPI Key valid\u001b[0m\n",
            "\u001b[32mSaved API Key successfully!\u001b[0m\n"
          ],
          "name": "stdout"
        }
      ]
    },
    {
      "cell_type": "code",
      "metadata": {
        "id": "FwZgcLsNDej_",
        "colab": {
          "base_uri": "https://localhost:8080/"
        },
        "outputId": "f8abd879-57bd-4e57-c7ad-ed6ad4fba5ef"
      },
      "source": [
        "!aicrowd dataset download --challenge mabe-task-1-classical-classification"
      ],
      "execution_count": 5,
      "outputs": [
        {
          "output_type": "stream",
          "text": [
            "train.npy: 100% 118M/118M [00:04<00:00, 25.1MB/s]\n",
            "sample-submission.npy: 100% 65.4M/65.4M [00:03<00:00, 17.3MB/s]\n",
            "test-release.npy: 100% 1.83G/1.83G [00:58<00:00, 31.5MB/s]\n"
          ],
          "name": "stdout"
        }
      ]
    },
    {
      "cell_type": "markdown",
      "metadata": {
        "id": "Md4em-KzIofe"
      },
      "source": [
        "Extract the downloaded dataset to `data` directory\n"
      ]
    },
    {
      "cell_type": "code",
      "metadata": {
        "id": "jXNMUq-UVc8E"
      },
      "source": [
        "!rm -rf data\n",
        "!mkdir data\n",
        " \n",
        "!mv train.npy data/train.npy\n",
        "!mv test-release.npy data/test.npy\n",
        "!mv sample-submission.npy data/sample_submission.npy"
      ],
      "execution_count": 6,
      "outputs": []
    },
    {
      "cell_type": "markdown",
      "metadata": {
        "id": "7MLxouZUvTRa"
      },
      "source": [
        "# Load Data\n",
        "The dataset files are python dictionaries, [this](https://colab.research.google.com/drive/1ddCX-TAdEcsUaGf09f5Glgr_G57FMK_O#scrollTo=JPsfxdl2GMcM&line=18&uniqifier=1) is a descirption of how the data is organized.\n",
        "\n"
      ]
    },
    {
      "cell_type": "code",
      "metadata": {
        "id": "RopVoFl1vTRb"
      },
      "source": [
        "train = np.load('data/train.npy',allow_pickle=True).item()\n",
        "test = np.load('data/test.npy',allow_pickle=True).item()\n",
        "sample_submission = np.load('data/sample_submission.npy',allow_pickle=True).item()"
      ],
      "execution_count": 55,
      "outputs": []
    },
    {
      "cell_type": "markdown",
      "metadata": {
        "id": "YFcS9p3haBkK"
      },
      "source": [
        "## Dataset Specifications 💾\n",
        "\n",
        "-   **`train.npy`** - Training set for the task, which follows the following schema:\n",
        "\n",
        "<p align=\"left\" style=\"padding: 30px\">&nbsp;&nbsp;&nbsp;&nbsp;&nbsp;&nbsp;&nbsp;&nbsp;&nbsp;&nbsp;&nbsp;<img width=\"600px\" src=\"https://i.imgur.com/GddvoT2.png\">\n",
        "</p>\n",
        "\n",
        "\n",
        "-   **`test-release.npy`** - Test set for the task, which follows the following schema :\n",
        "\n",
        "<p align=\"left\" style=\"padding: 30px\">&nbsp;&nbsp;&nbsp;&nbsp;&nbsp;&nbsp;&nbsp;&nbsp;&nbsp;&nbsp;&nbsp;<img width=\"600px\" src=\"https://i.imgur.com/vfa8Y4V.png\">\n",
        "</p>\n",
        "\n",
        "-   **`sample_submission.npy`** - Template for a sample submission which follows the following schema\n",
        "\n",
        "```json\n",
        "{\n",
        "    \"<sequence_id-1>\" : [0, 0, 1, 2, ...],\n",
        "    \"<sequence_id-2>\" : [0, 1, 2, 0, ...]\n",
        "}\n",
        "```\n",
        "\n",
        "Each key in the dictionary here refers to the unique sequence id obtained for the sequences in the test set.\n",
        "The value for each of the keys is expected to hold a list of corresponing annotations. The annotations are represented by the index of the corresponding annotation words in the vocabular provided in the test set."
      ]
    },
    {
      "cell_type": "markdown",
      "metadata": {
        "id": "JUkb35tcf4bn"
      },
      "source": [
        "## How does the data look like? 🔍\n",
        "\n",
        "### Data overview"
      ]
    },
    {
      "cell_type": "code",
      "metadata": {
        "colab": {
          "base_uri": "https://localhost:8080/"
        },
        "id": "CYIC5DW_oRPb",
        "outputId": "bb858575-daf9-4d47-de60-d9ff15850b77"
      },
      "source": [
        "print(\"Dataset keys - \", train.keys())\n",
        "print(\"Vocabulary - \", train['vocabulary'])\n",
        "print(\"Number of train Sequences - \", len(train['sequences']))\n",
        "print(\"Number of test Sequences - \", len(test['sequences']))"
      ],
      "execution_count": 8,
      "outputs": [
        {
          "output_type": "stream",
          "text": [
            "Dataset keys -  dict_keys(['vocabulary', 'sequences'])\n",
            "Vocabulary -  {'attack': 0, 'investigation': 1, 'mount': 2, 'other': 3}\n",
            "Number of train Sequences -  70\n",
            "Number of test Sequences -  458\n"
          ],
          "name": "stdout"
        }
      ]
    },
    {
      "cell_type": "markdown",
      "metadata": {
        "id": "luUly4Y1i4L-"
      },
      "source": [
        "### Sample overview"
      ]
    },
    {
      "cell_type": "code",
      "metadata": {
        "colab": {
          "base_uri": "https://localhost:8080/"
        },
        "id": "Hh9dj4wG3rV0",
        "outputId": "3102c7cc-0695-4bb3-a9ac-b006e11394a4"
      },
      "source": [
        "sequence_names = list(train[\"sequences\"].keys())\n",
        "sequence_key = sequence_names[0]\n",
        "single_sequence = train[\"sequences\"][sequence_key]\n",
        "print(\"Sequence name - \", sequence_key)\n",
        "print(\"Single Sequence keys \", single_sequence.keys())\n",
        "print(f\"Number of Frames in {sequence_key} - \", len(single_sequence['annotations']))\n",
        "print(f\"Keypoints data shape of {sequence_key} - \", single_sequence['keypoints'].shape)\n",
        "print(f\"annotator_id of {sequence_key} - \", single_sequence['annotator_id'])"
      ],
      "execution_count": 52,
      "outputs": [
        {
          "output_type": "stream",
          "text": [
            "Sequence name -  1cac195d39\n",
            "Single Sequence keys  dict_keys(['keypoints', 'annotator_id', 'annotations'])\n",
            "Number of Frames in 1cac195d39 -  4879\n",
            "Keypoints data shape of 1cac195d39 -  (4879, 2, 2, 7)\n",
            "annotator_id of 1cac195d39 -  0\n"
          ],
          "name": "stdout"
        }
      ]
    },
    {
      "cell_type": "markdown",
      "metadata": {
        "id": "elMM0KzraDFR"
      },
      "source": [
        "# Convert to pandas\r\n"
      ]
    },
    {
      "cell_type": "code",
      "metadata": {
        "id": "GZ7og_NkZ-cv",
        "colab": {
          "base_uri": "https://localhost:8080/"
        },
        "outputId": "1e62f2a1-095a-4562-d875-76adfcc47851"
      },
      "source": [
        "sequence_names = list(train[\"sequences\"].keys())\r\n",
        "sequence_key = sequence_names[0]\r\n",
        "single_sequence = train[\"sequences\"][sequence_key]\r\n",
        "single_keypoints = single_sequence['keypoints']\r\n",
        "single_annotations = single_sequence['annotations']\r\n",
        "print(np.unique(single_annotations))\r\n",
        "single_keypoints_2d = single_keypoints.reshape(single_keypoints.shape[0], single_keypoints.shape[1]*single_keypoints.shape[2]*single_keypoints.shape[3])\r\n",
        "print(single_keypoints.shape, single_keypoints_2d.shape)"
      ],
      "execution_count": 56,
      "outputs": [
        {
          "output_type": "stream",
          "text": [
            "[1 2 3]\n",
            "(4879, 2, 2, 7) (4879, 28)\n"
          ],
          "name": "stdout"
        }
      ]
    },
    {
      "cell_type": "code",
      "metadata": {
        "id": "ccYCvbIoaAXm",
        "colab": {
          "base_uri": "https://localhost:8080/",
          "height": 274
        },
        "outputId": "295ab585-bb83-4521-f276-7e8e43d0edac"
      },
      "source": [
        "#convert to pd.DataFrame format\r\n",
        "keypoint_names = ['nose', 'ear_left', 'ear_right', 'neck', 'hip_left', 'hip_right', 'tail_base']\r\n",
        "keypoints_idx = pd.MultiIndex.from_product([['animal1', 'animal2'],keypoint_names, list('xy')], names=['animal','keypoints','coords'])\r\n",
        "df_single_keypoints = pd.DataFrame(single_keypoints_2d, columns = keypoints_idx)\r\n",
        "df_single_keypoints[('classification', '', 'idx')] = single_annotations\r\n",
        "df_single_keypoints.head()"
      ],
      "execution_count": 57,
      "outputs": [
        {
          "output_type": "execute_result",
          "data": {
            "text/html": [
              "<div>\n",
              "<style scoped>\n",
              "    .dataframe tbody tr th:only-of-type {\n",
              "        vertical-align: middle;\n",
              "    }\n",
              "\n",
              "    .dataframe tbody tr th {\n",
              "        vertical-align: top;\n",
              "    }\n",
              "\n",
              "    .dataframe thead tr th {\n",
              "        text-align: left;\n",
              "    }\n",
              "</style>\n",
              "<table border=\"1\" class=\"dataframe\">\n",
              "  <thead>\n",
              "    <tr>\n",
              "      <th>animal</th>\n",
              "      <th colspan=\"14\" halign=\"left\">animal1</th>\n",
              "      <th colspan=\"14\" halign=\"left\">animal2</th>\n",
              "      <th>classification</th>\n",
              "    </tr>\n",
              "    <tr>\n",
              "      <th>keypoints</th>\n",
              "      <th colspan=\"2\" halign=\"left\">nose</th>\n",
              "      <th colspan=\"2\" halign=\"left\">ear_left</th>\n",
              "      <th colspan=\"2\" halign=\"left\">ear_right</th>\n",
              "      <th colspan=\"2\" halign=\"left\">neck</th>\n",
              "      <th colspan=\"2\" halign=\"left\">hip_left</th>\n",
              "      <th colspan=\"2\" halign=\"left\">hip_right</th>\n",
              "      <th colspan=\"2\" halign=\"left\">tail_base</th>\n",
              "      <th colspan=\"2\" halign=\"left\">nose</th>\n",
              "      <th colspan=\"2\" halign=\"left\">ear_left</th>\n",
              "      <th colspan=\"2\" halign=\"left\">ear_right</th>\n",
              "      <th colspan=\"2\" halign=\"left\">neck</th>\n",
              "      <th colspan=\"2\" halign=\"left\">hip_left</th>\n",
              "      <th colspan=\"2\" halign=\"left\">hip_right</th>\n",
              "      <th colspan=\"2\" halign=\"left\">tail_base</th>\n",
              "      <th></th>\n",
              "    </tr>\n",
              "    <tr>\n",
              "      <th>coords</th>\n",
              "      <th>x</th>\n",
              "      <th>y</th>\n",
              "      <th>x</th>\n",
              "      <th>y</th>\n",
              "      <th>x</th>\n",
              "      <th>y</th>\n",
              "      <th>x</th>\n",
              "      <th>y</th>\n",
              "      <th>x</th>\n",
              "      <th>y</th>\n",
              "      <th>x</th>\n",
              "      <th>y</th>\n",
              "      <th>x</th>\n",
              "      <th>y</th>\n",
              "      <th>x</th>\n",
              "      <th>y</th>\n",
              "      <th>x</th>\n",
              "      <th>y</th>\n",
              "      <th>x</th>\n",
              "      <th>y</th>\n",
              "      <th>x</th>\n",
              "      <th>y</th>\n",
              "      <th>x</th>\n",
              "      <th>y</th>\n",
              "      <th>x</th>\n",
              "      <th>y</th>\n",
              "      <th>x</th>\n",
              "      <th>y</th>\n",
              "      <th>idx</th>\n",
              "    </tr>\n",
              "  </thead>\n",
              "  <tbody>\n",
              "    <tr>\n",
              "      <th>0</th>\n",
              "      <td>298.993678</td>\n",
              "      <td>266.993678</td>\n",
              "      <td>248.993678</td>\n",
              "      <td>243.993678</td>\n",
              "      <td>181.993678</td>\n",
              "      <td>144.993678</td>\n",
              "      <td>125.993678</td>\n",
              "      <td>140.750941</td>\n",
              "      <td>194.750941</td>\n",
              "      <td>138.750941</td>\n",
              "      <td>169.750941</td>\n",
              "      <td>240.750941</td>\n",
              "      <td>167.750941</td>\n",
              "      <td>241.750941</td>\n",
              "      <td>191.689427</td>\n",
              "      <td>226.689427</td>\n",
              "      <td>167.689427</td>\n",
              "      <td>200.689427</td>\n",
              "      <td>235.689427</td>\n",
              "      <td>161.689427</td>\n",
              "      <td>203.689427</td>\n",
              "      <td>283.872987</td>\n",
              "      <td>323.872987</td>\n",
              "      <td>329.872987</td>\n",
              "      <td>342.872987</td>\n",
              "      <td>429.872987</td>\n",
              "      <td>433.872987</td>\n",
              "      <td>487.872987</td>\n",
              "      <td>3</td>\n",
              "    </tr>\n",
              "    <tr>\n",
              "      <th>1</th>\n",
              "      <td>295.167458</td>\n",
              "      <td>272.167458</td>\n",
              "      <td>258.167458</td>\n",
              "      <td>250.167458</td>\n",
              "      <td>188.167458</td>\n",
              "      <td>155.167458</td>\n",
              "      <td>132.167458</td>\n",
              "      <td>139.060320</td>\n",
              "      <td>185.060320</td>\n",
              "      <td>133.060320</td>\n",
              "      <td>163.060320</td>\n",
              "      <td>231.060320</td>\n",
              "      <td>161.060320</td>\n",
              "      <td>235.060320</td>\n",
              "      <td>191.571692</td>\n",
              "      <td>224.571692</td>\n",
              "      <td>164.571692</td>\n",
              "      <td>197.571692</td>\n",
              "      <td>233.571692</td>\n",
              "      <td>159.571692</td>\n",
              "      <td>202.571692</td>\n",
              "      <td>276.832877</td>\n",
              "      <td>321.832877</td>\n",
              "      <td>326.832877</td>\n",
              "      <td>340.832877</td>\n",
              "      <td>429.832877</td>\n",
              "      <td>433.832877</td>\n",
              "      <td>488.832877</td>\n",
              "      <td>3</td>\n",
              "    </tr>\n",
              "    <tr>\n",
              "      <th>2</th>\n",
              "      <td>301.360918</td>\n",
              "      <td>278.360918</td>\n",
              "      <td>264.360918</td>\n",
              "      <td>256.360918</td>\n",
              "      <td>203.360918</td>\n",
              "      <td>158.360918</td>\n",
              "      <td>140.360918</td>\n",
              "      <td>135.643521</td>\n",
              "      <td>178.643521</td>\n",
              "      <td>130.643521</td>\n",
              "      <td>157.643521</td>\n",
              "      <td>221.643521</td>\n",
              "      <td>161.643521</td>\n",
              "      <td>232.643521</td>\n",
              "      <td>192.119408</td>\n",
              "      <td>224.119408</td>\n",
              "      <td>165.119408</td>\n",
              "      <td>198.119408</td>\n",
              "      <td>231.119408</td>\n",
              "      <td>159.119408</td>\n",
              "      <td>203.119408</td>\n",
              "      <td>271.252561</td>\n",
              "      <td>321.252561</td>\n",
              "      <td>325.252561</td>\n",
              "      <td>340.252561</td>\n",
              "      <td>429.252561</td>\n",
              "      <td>434.252561</td>\n",
              "      <td>488.252561</td>\n",
              "      <td>3</td>\n",
              "    </tr>\n",
              "    <tr>\n",
              "      <th>3</th>\n",
              "      <td>301.279237</td>\n",
              "      <td>283.279237</td>\n",
              "      <td>269.279237</td>\n",
              "      <td>261.279237</td>\n",
              "      <td>214.279237</td>\n",
              "      <td>158.279237</td>\n",
              "      <td>150.279237</td>\n",
              "      <td>134.841073</td>\n",
              "      <td>170.841073</td>\n",
              "      <td>125.841073</td>\n",
              "      <td>151.841073</td>\n",
              "      <td>212.841073</td>\n",
              "      <td>167.841073</td>\n",
              "      <td>226.841073</td>\n",
              "      <td>196.141740</td>\n",
              "      <td>224.141740</td>\n",
              "      <td>164.141740</td>\n",
              "      <td>197.141740</td>\n",
              "      <td>230.141740</td>\n",
              "      <td>156.141740</td>\n",
              "      <td>202.141740</td>\n",
              "      <td>269.633701</td>\n",
              "      <td>323.633701</td>\n",
              "      <td>323.633701</td>\n",
              "      <td>338.633701</td>\n",
              "      <td>431.633701</td>\n",
              "      <td>433.633701</td>\n",
              "      <td>487.633701</td>\n",
              "      <td>3</td>\n",
              "    </tr>\n",
              "    <tr>\n",
              "      <th>4</th>\n",
              "      <td>314.116591</td>\n",
              "      <td>292.116591</td>\n",
              "      <td>277.116591</td>\n",
              "      <td>272.116591</td>\n",
              "      <td>221.116591</td>\n",
              "      <td>168.116591</td>\n",
              "      <td>157.116591</td>\n",
              "      <td>126.012383</td>\n",
              "      <td>164.012383</td>\n",
              "      <td>123.012383</td>\n",
              "      <td>147.012383</td>\n",
              "      <td>212.012383</td>\n",
              "      <td>162.012383</td>\n",
              "      <td>221.012383</td>\n",
              "      <td>202.022800</td>\n",
              "      <td>231.022800</td>\n",
              "      <td>169.022800</td>\n",
              "      <td>201.022800</td>\n",
              "      <td>234.022800</td>\n",
              "      <td>157.022800</td>\n",
              "      <td>201.022800</td>\n",
              "      <td>269.935361</td>\n",
              "      <td>323.935361</td>\n",
              "      <td>319.935361</td>\n",
              "      <td>338.935361</td>\n",
              "      <td>429.935361</td>\n",
              "      <td>430.935361</td>\n",
              "      <td>485.935361</td>\n",
              "      <td>3</td>\n",
              "    </tr>\n",
              "  </tbody>\n",
              "</table>\n",
              "</div>"
            ],
            "text/plain": [
              "animal        animal1              ...     animal2 classification\n",
              "keypoints        nose              ...   tail_base               \n",
              "coords              x           y  ...           y            idx\n",
              "0          298.993678  266.993678  ...  487.872987              3\n",
              "1          295.167458  272.167458  ...  488.832877              3\n",
              "2          301.360918  278.360918  ...  488.252561              3\n",
              "3          301.279237  283.279237  ...  487.633701              3\n",
              "4          314.116591  292.116591  ...  485.935361              3\n",
              "\n",
              "[5 rows x 29 columns]"
            ]
          },
          "metadata": {
            "tags": []
          },
          "execution_count": 57
        }
      ]
    },
    {
      "cell_type": "markdown",
      "metadata": {
        "id": "Qjj_Pbv7uyZN"
      },
      "source": [
        "# Preprocess\r\n",
        "\r\n",
        "We'll normalize the data based on the information that the frame size is 1024x570\r\n"
      ]
    },
    {
      "cell_type": "code",
      "metadata": {
        "id": "T6cO6U6Vu0N8"
      },
      "source": [
        "#modified from baseline model to fit to pandas\r\n",
        "def normalize_data(df):\r\n",
        "  df_norm = df.copy()\r\n",
        "  df_norm.loc[:, df_norm.columns.get_level_values(2)=='x'] = df_norm.loc[:, df_norm.columns.get_level_values(2)=='x']/1024\r\n",
        "  df_norm.loc[:,df_norm.columns.get_level_values(2)=='y'] = df_norm.loc[:, df_norm.columns.get_level_values(2)=='y']/570\r\n",
        "  return df_norm"
      ],
      "execution_count": 58,
      "outputs": []
    },
    {
      "cell_type": "code",
      "metadata": {
        "colab": {
          "base_uri": "https://localhost:8080/",
          "height": 274
        },
        "id": "IRTlGgizvkFc",
        "outputId": "529a1f3f-2c1e-438c-a2d7-7368ba82b58b"
      },
      "source": [
        "norm_df = normalize_data(df_single_keypoints)\r\n",
        "norm_df.head()"
      ],
      "execution_count": 59,
      "outputs": [
        {
          "output_type": "execute_result",
          "data": {
            "text/html": [
              "<div>\n",
              "<style scoped>\n",
              "    .dataframe tbody tr th:only-of-type {\n",
              "        vertical-align: middle;\n",
              "    }\n",
              "\n",
              "    .dataframe tbody tr th {\n",
              "        vertical-align: top;\n",
              "    }\n",
              "\n",
              "    .dataframe thead tr th {\n",
              "        text-align: left;\n",
              "    }\n",
              "</style>\n",
              "<table border=\"1\" class=\"dataframe\">\n",
              "  <thead>\n",
              "    <tr>\n",
              "      <th>animal</th>\n",
              "      <th colspan=\"14\" halign=\"left\">animal1</th>\n",
              "      <th colspan=\"14\" halign=\"left\">animal2</th>\n",
              "      <th>classification</th>\n",
              "    </tr>\n",
              "    <tr>\n",
              "      <th>keypoints</th>\n",
              "      <th colspan=\"2\" halign=\"left\">nose</th>\n",
              "      <th colspan=\"2\" halign=\"left\">ear_left</th>\n",
              "      <th colspan=\"2\" halign=\"left\">ear_right</th>\n",
              "      <th colspan=\"2\" halign=\"left\">neck</th>\n",
              "      <th colspan=\"2\" halign=\"left\">hip_left</th>\n",
              "      <th colspan=\"2\" halign=\"left\">hip_right</th>\n",
              "      <th colspan=\"2\" halign=\"left\">tail_base</th>\n",
              "      <th colspan=\"2\" halign=\"left\">nose</th>\n",
              "      <th colspan=\"2\" halign=\"left\">ear_left</th>\n",
              "      <th colspan=\"2\" halign=\"left\">ear_right</th>\n",
              "      <th colspan=\"2\" halign=\"left\">neck</th>\n",
              "      <th colspan=\"2\" halign=\"left\">hip_left</th>\n",
              "      <th colspan=\"2\" halign=\"left\">hip_right</th>\n",
              "      <th colspan=\"2\" halign=\"left\">tail_base</th>\n",
              "      <th></th>\n",
              "    </tr>\n",
              "    <tr>\n",
              "      <th>coords</th>\n",
              "      <th>x</th>\n",
              "      <th>y</th>\n",
              "      <th>x</th>\n",
              "      <th>y</th>\n",
              "      <th>x</th>\n",
              "      <th>y</th>\n",
              "      <th>x</th>\n",
              "      <th>y</th>\n",
              "      <th>x</th>\n",
              "      <th>y</th>\n",
              "      <th>x</th>\n",
              "      <th>y</th>\n",
              "      <th>x</th>\n",
              "      <th>y</th>\n",
              "      <th>x</th>\n",
              "      <th>y</th>\n",
              "      <th>x</th>\n",
              "      <th>y</th>\n",
              "      <th>x</th>\n",
              "      <th>y</th>\n",
              "      <th>x</th>\n",
              "      <th>y</th>\n",
              "      <th>x</th>\n",
              "      <th>y</th>\n",
              "      <th>x</th>\n",
              "      <th>y</th>\n",
              "      <th>x</th>\n",
              "      <th>y</th>\n",
              "      <th>idx</th>\n",
              "    </tr>\n",
              "  </thead>\n",
              "  <tbody>\n",
              "    <tr>\n",
              "      <th>0</th>\n",
              "      <td>0.291986</td>\n",
              "      <td>0.468410</td>\n",
              "      <td>0.243158</td>\n",
              "      <td>0.428059</td>\n",
              "      <td>0.177728</td>\n",
              "      <td>0.254375</td>\n",
              "      <td>0.123041</td>\n",
              "      <td>0.246931</td>\n",
              "      <td>0.190186</td>\n",
              "      <td>0.243423</td>\n",
              "      <td>0.165772</td>\n",
              "      <td>0.422370</td>\n",
              "      <td>0.163819</td>\n",
              "      <td>0.424124</td>\n",
              "      <td>0.187197</td>\n",
              "      <td>0.397701</td>\n",
              "      <td>0.163759</td>\n",
              "      <td>0.352087</td>\n",
              "      <td>0.230165</td>\n",
              "      <td>0.283666</td>\n",
              "      <td>0.198915</td>\n",
              "      <td>0.498023</td>\n",
              "      <td>0.316282</td>\n",
              "      <td>0.578725</td>\n",
              "      <td>0.334837</td>\n",
              "      <td>0.754163</td>\n",
              "      <td>0.423704</td>\n",
              "      <td>0.855918</td>\n",
              "      <td>3</td>\n",
              "    </tr>\n",
              "    <tr>\n",
              "      <th>1</th>\n",
              "      <td>0.288249</td>\n",
              "      <td>0.477487</td>\n",
              "      <td>0.252117</td>\n",
              "      <td>0.438890</td>\n",
              "      <td>0.183757</td>\n",
              "      <td>0.272224</td>\n",
              "      <td>0.129070</td>\n",
              "      <td>0.243965</td>\n",
              "      <td>0.180723</td>\n",
              "      <td>0.233439</td>\n",
              "      <td>0.159239</td>\n",
              "      <td>0.405369</td>\n",
              "      <td>0.157285</td>\n",
              "      <td>0.412387</td>\n",
              "      <td>0.187082</td>\n",
              "      <td>0.393985</td>\n",
              "      <td>0.160715</td>\n",
              "      <td>0.346617</td>\n",
              "      <td>0.228097</td>\n",
              "      <td>0.279950</td>\n",
              "      <td>0.197824</td>\n",
              "      <td>0.485672</td>\n",
              "      <td>0.314290</td>\n",
              "      <td>0.573391</td>\n",
              "      <td>0.332845</td>\n",
              "      <td>0.754093</td>\n",
              "      <td>0.423665</td>\n",
              "      <td>0.857602</td>\n",
              "      <td>3</td>\n",
              "    </tr>\n",
              "    <tr>\n",
              "      <th>2</th>\n",
              "      <td>0.294298</td>\n",
              "      <td>0.488352</td>\n",
              "      <td>0.258165</td>\n",
              "      <td>0.449756</td>\n",
              "      <td>0.198595</td>\n",
              "      <td>0.277826</td>\n",
              "      <td>0.137071</td>\n",
              "      <td>0.237971</td>\n",
              "      <td>0.174457</td>\n",
              "      <td>0.229199</td>\n",
              "      <td>0.153949</td>\n",
              "      <td>0.388848</td>\n",
              "      <td>0.157855</td>\n",
              "      <td>0.408147</td>\n",
              "      <td>0.187617</td>\n",
              "      <td>0.393192</td>\n",
              "      <td>0.161249</td>\n",
              "      <td>0.347578</td>\n",
              "      <td>0.225703</td>\n",
              "      <td>0.279157</td>\n",
              "      <td>0.198359</td>\n",
              "      <td>0.475882</td>\n",
              "      <td>0.313723</td>\n",
              "      <td>0.570619</td>\n",
              "      <td>0.332278</td>\n",
              "      <td>0.753075</td>\n",
              "      <td>0.424075</td>\n",
              "      <td>0.856583</td>\n",
              "      <td>3</td>\n",
              "    </tr>\n",
              "    <tr>\n",
              "      <th>3</th>\n",
              "      <td>0.294218</td>\n",
              "      <td>0.496981</td>\n",
              "      <td>0.262968</td>\n",
              "      <td>0.458385</td>\n",
              "      <td>0.209257</td>\n",
              "      <td>0.277683</td>\n",
              "      <td>0.146757</td>\n",
              "      <td>0.236563</td>\n",
              "      <td>0.166837</td>\n",
              "      <td>0.220774</td>\n",
              "      <td>0.148282</td>\n",
              "      <td>0.373405</td>\n",
              "      <td>0.163907</td>\n",
              "      <td>0.397967</td>\n",
              "      <td>0.191545</td>\n",
              "      <td>0.393231</td>\n",
              "      <td>0.160295</td>\n",
              "      <td>0.345863</td>\n",
              "      <td>0.224748</td>\n",
              "      <td>0.273933</td>\n",
              "      <td>0.197404</td>\n",
              "      <td>0.473042</td>\n",
              "      <td>0.316049</td>\n",
              "      <td>0.567778</td>\n",
              "      <td>0.330697</td>\n",
              "      <td>0.757252</td>\n",
              "      <td>0.423470</td>\n",
              "      <td>0.855498</td>\n",
              "      <td>3</td>\n",
              "    </tr>\n",
              "    <tr>\n",
              "      <th>4</th>\n",
              "      <td>0.306754</td>\n",
              "      <td>0.512485</td>\n",
              "      <td>0.270622</td>\n",
              "      <td>0.477398</td>\n",
              "      <td>0.215934</td>\n",
              "      <td>0.294941</td>\n",
              "      <td>0.153434</td>\n",
              "      <td>0.221074</td>\n",
              "      <td>0.160168</td>\n",
              "      <td>0.215811</td>\n",
              "      <td>0.143567</td>\n",
              "      <td>0.371952</td>\n",
              "      <td>0.158215</td>\n",
              "      <td>0.387741</td>\n",
              "      <td>0.197288</td>\n",
              "      <td>0.405303</td>\n",
              "      <td>0.165061</td>\n",
              "      <td>0.352672</td>\n",
              "      <td>0.228538</td>\n",
              "      <td>0.275479</td>\n",
              "      <td>0.196311</td>\n",
              "      <td>0.473571</td>\n",
              "      <td>0.316343</td>\n",
              "      <td>0.561290</td>\n",
              "      <td>0.330992</td>\n",
              "      <td>0.754273</td>\n",
              "      <td>0.420835</td>\n",
              "      <td>0.852518</td>\n",
              "      <td>3</td>\n",
              "    </tr>\n",
              "  </tbody>\n",
              "</table>\n",
              "</div>"
            ],
            "text/plain": [
              "animal      animal1                      ...   animal2           classification\n",
              "keypoints      nose            ear_left  ... tail_base                         \n",
              "coords            x         y         x  ...         x         y            idx\n",
              "0          0.291986  0.468410  0.243158  ...  0.423704  0.855918              3\n",
              "1          0.288249  0.477487  0.252117  ...  0.423665  0.857602              3\n",
              "2          0.294298  0.488352  0.258165  ...  0.424075  0.856583              3\n",
              "3          0.294218  0.496981  0.262968  ...  0.423470  0.855498              3\n",
              "4          0.306754  0.512485  0.270622  ...  0.420835  0.852518              3\n",
              "\n",
              "[5 rows x 29 columns]"
            ]
          },
          "metadata": {
            "tags": []
          },
          "execution_count": 59
        }
      ]
    },
    {
      "cell_type": "markdown",
      "metadata": {
        "id": "ISlcWlz-w5u-"
      },
      "source": [
        "# Go through all sequences"
      ]
    },
    {
      "cell_type": "code",
      "metadata": {
        "colab": {
          "base_uri": "https://localhost:8080/",
          "height": 363
        },
        "id": "M-iQGgtpeCqM",
        "outputId": "3441e1b5-67d2-45b4-afbb-4de7e97f9776"
      },
      "source": [
        "## Going through all sequences and creating giant dataframe\r\n",
        "keypoint_names = ['nose', 'ear_left', 'ear_right', 'neck', 'hip_left', 'hip_right', 'tail_base']\r\n",
        "keypoints_idx = pd.MultiIndex.from_product([['animal1', 'animal2'],keypoint_names, list('xy')], names=['animal','keypoints','coords'])\r\n",
        "\r\n",
        "collection_df = None\r\n",
        "for sequence_idx in range(len(sequence_names)):\r\n",
        "  sequence_key = sequence_names[sequence_idx]\r\n",
        "  single_sequence = train[\"sequences\"][sequence_key]\r\n",
        "  single_keypoints = single_sequence['keypoints']\r\n",
        "  single_annotations = single_sequence['annotations']\r\n",
        "  single_keypoints_2d = single_keypoints.reshape(single_keypoints.shape[0], single_keypoints.shape[1]*single_keypoints.shape[2]*single_keypoints.shape[3])\r\n",
        "\r\n",
        "  # convert to dataframe\r\n",
        "  df_single_keypoints = pd.DataFrame(single_keypoints_2d, columns = keypoints_idx)\r\n",
        "  df_single_keypoints[('classification', '', 'idx')] = single_annotations\r\n",
        "  df_single_keypoints[('classification', '', 'idx')] = df_single_keypoints[('classification', '', 'idx')].astype('category')\r\n",
        "  if collection_df is None:\r\n",
        "    collection_df = df_single_keypoints\r\n",
        "  else:\r\n",
        "    collection_df = pd.concat([collection_df, df_single_keypoints], ignore_index= True)\r\n",
        "\r\n",
        "#collection_df[('classification', '', 'idx')] = collection_df[('classification', '', 'idx')].astype(\"category\")\r\n",
        "collection_df.describe(include= 'all')\r\n"
      ],
      "execution_count": null,
      "outputs": [
        {
          "output_type": "execute_result",
          "data": {
            "text/html": [
              "<div>\n",
              "<style scoped>\n",
              "    .dataframe tbody tr th:only-of-type {\n",
              "        vertical-align: middle;\n",
              "    }\n",
              "\n",
              "    .dataframe tbody tr th {\n",
              "        vertical-align: top;\n",
              "    }\n",
              "\n",
              "    .dataframe thead tr th {\n",
              "        text-align: left;\n",
              "    }\n",
              "</style>\n",
              "<table border=\"1\" class=\"dataframe\">\n",
              "  <thead>\n",
              "    <tr>\n",
              "      <th>animal</th>\n",
              "      <th colspan=\"14\" halign=\"left\">animal1</th>\n",
              "      <th colspan=\"14\" halign=\"left\">animal2</th>\n",
              "      <th>classification</th>\n",
              "    </tr>\n",
              "    <tr>\n",
              "      <th>keypoints</th>\n",
              "      <th colspan=\"2\" halign=\"left\">nose</th>\n",
              "      <th colspan=\"2\" halign=\"left\">ear_left</th>\n",
              "      <th colspan=\"2\" halign=\"left\">ear_right</th>\n",
              "      <th colspan=\"2\" halign=\"left\">neck</th>\n",
              "      <th colspan=\"2\" halign=\"left\">hip_left</th>\n",
              "      <th colspan=\"2\" halign=\"left\">hip_right</th>\n",
              "      <th colspan=\"2\" halign=\"left\">tail_base</th>\n",
              "      <th colspan=\"2\" halign=\"left\">nose</th>\n",
              "      <th colspan=\"2\" halign=\"left\">ear_left</th>\n",
              "      <th colspan=\"2\" halign=\"left\">ear_right</th>\n",
              "      <th colspan=\"2\" halign=\"left\">neck</th>\n",
              "      <th colspan=\"2\" halign=\"left\">hip_left</th>\n",
              "      <th colspan=\"2\" halign=\"left\">hip_right</th>\n",
              "      <th colspan=\"2\" halign=\"left\">tail_base</th>\n",
              "      <th></th>\n",
              "    </tr>\n",
              "    <tr>\n",
              "      <th>coords</th>\n",
              "      <th>x</th>\n",
              "      <th>y</th>\n",
              "      <th>x</th>\n",
              "      <th>y</th>\n",
              "      <th>x</th>\n",
              "      <th>y</th>\n",
              "      <th>x</th>\n",
              "      <th>y</th>\n",
              "      <th>x</th>\n",
              "      <th>y</th>\n",
              "      <th>x</th>\n",
              "      <th>y</th>\n",
              "      <th>x</th>\n",
              "      <th>y</th>\n",
              "      <th>x</th>\n",
              "      <th>y</th>\n",
              "      <th>x</th>\n",
              "      <th>y</th>\n",
              "      <th>x</th>\n",
              "      <th>y</th>\n",
              "      <th>x</th>\n",
              "      <th>y</th>\n",
              "      <th>x</th>\n",
              "      <th>y</th>\n",
              "      <th>x</th>\n",
              "      <th>y</th>\n",
              "      <th>x</th>\n",
              "      <th>y</th>\n",
              "      <th>idx</th>\n",
              "    </tr>\n",
              "  </thead>\n",
              "  <tbody>\n",
              "    <tr>\n",
              "      <th>count</th>\n",
              "      <td>507738.000000</td>\n",
              "      <td>507738.000000</td>\n",
              "      <td>507738.000000</td>\n",
              "      <td>507738.000000</td>\n",
              "      <td>507738.000000</td>\n",
              "      <td>507738.000000</td>\n",
              "      <td>507738.000000</td>\n",
              "      <td>507738.000000</td>\n",
              "      <td>507738.000000</td>\n",
              "      <td>507738.000000</td>\n",
              "      <td>507738.000000</td>\n",
              "      <td>507738.000000</td>\n",
              "      <td>507738.000000</td>\n",
              "      <td>507738.000000</td>\n",
              "      <td>507738.000000</td>\n",
              "      <td>507738.000000</td>\n",
              "      <td>507738.000000</td>\n",
              "      <td>507738.000000</td>\n",
              "      <td>507738.000000</td>\n",
              "      <td>507738.000000</td>\n",
              "      <td>507738.000000</td>\n",
              "      <td>507738.000000</td>\n",
              "      <td>507738.000000</td>\n",
              "      <td>507738.000000</td>\n",
              "      <td>507738.000000</td>\n",
              "      <td>507738.000000</td>\n",
              "      <td>507738.000000</td>\n",
              "      <td>507738.000000</td>\n",
              "      <td>507738.000000</td>\n",
              "    </tr>\n",
              "    <tr>\n",
              "      <th>mean</th>\n",
              "      <td>498.981251</td>\n",
              "      <td>492.330323</td>\n",
              "      <td>498.293024</td>\n",
              "      <td>494.084736</td>\n",
              "      <td>485.628505</td>\n",
              "      <td>494.056763</td>\n",
              "      <td>486.062736</td>\n",
              "      <td>316.323761</td>\n",
              "      <td>312.197983</td>\n",
              "      <td>308.441170</td>\n",
              "      <td>308.404696</td>\n",
              "      <td>305.054301</td>\n",
              "      <td>299.579507</td>\n",
              "      <td>297.550259</td>\n",
              "      <td>535.383293</td>\n",
              "      <td>534.236305</td>\n",
              "      <td>531.880153</td>\n",
              "      <td>532.586935</td>\n",
              "      <td>530.646294</td>\n",
              "      <td>528.236839</td>\n",
              "      <td>526.511264</td>\n",
              "      <td>329.748869</td>\n",
              "      <td>332.345046</td>\n",
              "      <td>329.677917</td>\n",
              "      <td>331.250143</td>\n",
              "      <td>335.278646</td>\n",
              "      <td>331.464391</td>\n",
              "      <td>334.243921</td>\n",
              "      <td>2.283170</td>\n",
              "    </tr>\n",
              "    <tr>\n",
              "      <th>std</th>\n",
              "      <td>276.277653</td>\n",
              "      <td>271.113108</td>\n",
              "      <td>272.273444</td>\n",
              "      <td>270.336755</td>\n",
              "      <td>265.768457</td>\n",
              "      <td>266.441908</td>\n",
              "      <td>264.953242</td>\n",
              "      <td>126.095533</td>\n",
              "      <td>117.665969</td>\n",
              "      <td>119.514629</td>\n",
              "      <td>116.098516</td>\n",
              "      <td>119.006242</td>\n",
              "      <td>122.113286</td>\n",
              "      <td>124.882395</td>\n",
              "      <td>281.381697</td>\n",
              "      <td>282.621359</td>\n",
              "      <td>281.286963</td>\n",
              "      <td>280.826315</td>\n",
              "      <td>277.205947</td>\n",
              "      <td>276.762300</td>\n",
              "      <td>276.961196</td>\n",
              "      <td>130.553673</td>\n",
              "      <td>127.718573</td>\n",
              "      <td>127.443641</td>\n",
              "      <td>125.596338</td>\n",
              "      <td>129.200753</td>\n",
              "      <td>129.353404</td>\n",
              "      <td>134.293177</td>\n",
              "      <td>0.972836</td>\n",
              "    </tr>\n",
              "    <tr>\n",
              "      <th>min</th>\n",
              "      <td>0.000000</td>\n",
              "      <td>11.000000</td>\n",
              "      <td>32.000000</td>\n",
              "      <td>50.000000</td>\n",
              "      <td>11.000000</td>\n",
              "      <td>38.490309</td>\n",
              "      <td>0.000000</td>\n",
              "      <td>6.000000</td>\n",
              "      <td>45.046026</td>\n",
              "      <td>46.000000</td>\n",
              "      <td>64.000000</td>\n",
              "      <td>53.343066</td>\n",
              "      <td>51.538162</td>\n",
              "      <td>39.825313</td>\n",
              "      <td>0.000000</td>\n",
              "      <td>13.000000</td>\n",
              "      <td>14.000000</td>\n",
              "      <td>41.000000</td>\n",
              "      <td>12.000000</td>\n",
              "      <td>24.573660</td>\n",
              "      <td>12.000000</td>\n",
              "      <td>0.000000</td>\n",
              "      <td>10.000000</td>\n",
              "      <td>19.000000</td>\n",
              "      <td>54.000000</td>\n",
              "      <td>23.000000</td>\n",
              "      <td>35.000000</td>\n",
              "      <td>17.000000</td>\n",
              "      <td>0.000000</td>\n",
              "    </tr>\n",
              "    <tr>\n",
              "      <th>25%</th>\n",
              "      <td>228.257655</td>\n",
              "      <td>211.394948</td>\n",
              "      <td>215.392818</td>\n",
              "      <td>208.979365</td>\n",
              "      <td>216.654578</td>\n",
              "      <td>223.686047</td>\n",
              "      <td>224.823090</td>\n",
              "      <td>208.243571</td>\n",
              "      <td>206.984704</td>\n",
              "      <td>201.426995</td>\n",
              "      <td>198.333654</td>\n",
              "      <td>199.288982</td>\n",
              "      <td>193.193055</td>\n",
              "      <td>179.246724</td>\n",
              "      <td>255.440522</td>\n",
              "      <td>240.314352</td>\n",
              "      <td>238.191082</td>\n",
              "      <td>235.436060</td>\n",
              "      <td>242.772036</td>\n",
              "      <td>239.425223</td>\n",
              "      <td>252.320353</td>\n",
              "      <td>220.132083</td>\n",
              "      <td>216.393679</td>\n",
              "      <td>211.892586</td>\n",
              "      <td>211.618877</td>\n",
              "      <td>218.881433</td>\n",
              "      <td>211.845849</td>\n",
              "      <td>208.543972</td>\n",
              "      <td>1.000000</td>\n",
              "    </tr>\n",
              "    <tr>\n",
              "      <th>50%</th>\n",
              "      <td>503.394354</td>\n",
              "      <td>506.396939</td>\n",
              "      <td>505.847574</td>\n",
              "      <td>505.353545</td>\n",
              "      <td>502.474588</td>\n",
              "      <td>505.035722</td>\n",
              "      <td>501.617735</td>\n",
              "      <td>312.861399</td>\n",
              "      <td>308.271798</td>\n",
              "      <td>302.366984</td>\n",
              "      <td>303.243790</td>\n",
              "      <td>302.251891</td>\n",
              "      <td>292.507771</td>\n",
              "      <td>293.192260</td>\n",
              "      <td>585.079724</td>\n",
              "      <td>582.486266</td>\n",
              "      <td>584.075331</td>\n",
              "      <td>581.447604</td>\n",
              "      <td>567.436226</td>\n",
              "      <td>567.295091</td>\n",
              "      <td>564.528696</td>\n",
              "      <td>339.796427</td>\n",
              "      <td>350.923986</td>\n",
              "      <td>343.092039</td>\n",
              "      <td>351.253515</td>\n",
              "      <td>358.677518</td>\n",
              "      <td>348.005436</td>\n",
              "      <td>346.671118</td>\n",
              "      <td>3.000000</td>\n",
              "    </tr>\n",
              "    <tr>\n",
              "      <th>75%</th>\n",
              "      <td>772.395674</td>\n",
              "      <td>766.282243</td>\n",
              "      <td>775.290410</td>\n",
              "      <td>770.861516</td>\n",
              "      <td>744.781598</td>\n",
              "      <td>749.365298</td>\n",
              "      <td>726.977702</td>\n",
              "      <td>427.954780</td>\n",
              "      <td>420.042571</td>\n",
              "      <td>417.003446</td>\n",
              "      <td>420.374494</td>\n",
              "      <td>407.373414</td>\n",
              "      <td>404.640301</td>\n",
              "      <td>407.774451</td>\n",
              "      <td>801.895790</td>\n",
              "      <td>812.577718</td>\n",
              "      <td>807.631813</td>\n",
              "      <td>814.313069</td>\n",
              "      <td>799.973489</td>\n",
              "      <td>796.357602</td>\n",
              "      <td>793.945117</td>\n",
              "      <td>442.006255</td>\n",
              "      <td>448.290094</td>\n",
              "      <td>445.031193</td>\n",
              "      <td>450.738161</td>\n",
              "      <td>449.826209</td>\n",
              "      <td>443.011136</td>\n",
              "      <td>462.314209</td>\n",
              "      <td>3.000000</td>\n",
              "    </tr>\n",
              "    <tr>\n",
              "      <th>max</th>\n",
              "      <td>1018.382385</td>\n",
              "      <td>991.423523</td>\n",
              "      <td>991.013672</td>\n",
              "      <td>957.013672</td>\n",
              "      <td>1001.677673</td>\n",
              "      <td>996.415320</td>\n",
              "      <td>998.415320</td>\n",
              "      <td>569.333163</td>\n",
              "      <td>559.926409</td>\n",
              "      <td>548.861709</td>\n",
              "      <td>548.762273</td>\n",
              "      <td>555.832033</td>\n",
              "      <td>568.823300</td>\n",
              "      <td>568.926409</td>\n",
              "      <td>1023.255310</td>\n",
              "      <td>997.133850</td>\n",
              "      <td>1000.385925</td>\n",
              "      <td>963.133850</td>\n",
              "      <td>1004.964966</td>\n",
              "      <td>991.653851</td>\n",
              "      <td>1021.738464</td>\n",
              "      <td>569.487251</td>\n",
              "      <td>559.198379</td>\n",
              "      <td>564.111049</td>\n",
              "      <td>555.793921</td>\n",
              "      <td>559.419632</td>\n",
              "      <td>559.118217</td>\n",
              "      <td>569.425169</td>\n",
              "      <td>3.000000</td>\n",
              "    </tr>\n",
              "  </tbody>\n",
              "</table>\n",
              "</div>"
            ],
            "text/plain": [
              "animal           animal1                 ...        animal2 classification\n",
              "keypoints           nose                 ...      tail_base               \n",
              "coords                 x              y  ...              y            idx\n",
              "count      507738.000000  507738.000000  ...  507738.000000  507738.000000\n",
              "mean          498.981251     492.330323  ...     334.243921       2.283170\n",
              "std           276.277653     271.113108  ...     134.293177       0.972836\n",
              "min             0.000000      11.000000  ...      17.000000       0.000000\n",
              "25%           228.257655     211.394948  ...     208.543972       1.000000\n",
              "50%           503.394354     506.396939  ...     346.671118       3.000000\n",
              "75%           772.395674     766.282243  ...     462.314209       3.000000\n",
              "max          1018.382385     991.423523  ...     569.425169       3.000000\n",
              "\n",
              "[8 rows x 29 columns]"
            ]
          },
          "metadata": {
            "tags": []
          },
          "execution_count": 77
        }
      ]
    },
    {
      "cell_type": "code",
      "metadata": {
        "id": "kdcK98Z71-CO",
        "colab": {
          "base_uri": "https://localhost:8080/"
        },
        "outputId": "e85691e5-9415-49b3-a737-600743e84d6a"
      },
      "source": [
        "# take equally sized samples from all categories:\r\n",
        "#feature_df = collection_df.loc[collection_df[('classification', '', 'idx')] != 3]\r\n",
        "feature_df = collection_df.copy()\r\n",
        "label_count= feature_df[('classification', '', 'idx')].value_counts()\r\n",
        "min_label = label_count.idxmin() \r\n",
        "min_count = np.amin(label_count)\r\n",
        "feature__sample = feature_df.groupby(('classification', '', 'idx')).sample(n=min_count, random_state=14)\r\n",
        "feature__sample.shape\r\n",
        "\r\n",
        "print(f'Minimum occurances of label {min_label}: {min_count}. Taking {min_count} samples per group...')"
      ],
      "execution_count": null,
      "outputs": [
        {
          "output_type": "stream",
          "text": [
            "Minimum occurances of label 0: 14039. Taking 14039 samples per group...\n"
          ],
          "name": "stdout"
        }
      ]
    },
    {
      "cell_type": "markdown",
      "metadata": {
        "id": "hSs-j_CAlWKE"
      },
      "source": [
        "# Basic prediction: Single frame - single prediction with Random Forest (no additional features)"
      ]
    },
    {
      "cell_type": "code",
      "metadata": {
        "id": "4qzgoL3PlHjR",
        "colab": {
          "base_uri": "https://localhost:8080/"
        },
        "outputId": "9ed3c038-0884-47f5-81ea-515e7e083d10"
      },
      "source": [
        "from sklearn.model_selection import train_test_split\r\n",
        "labels = np.array(feature__sample[('classification', '', 'idx')])\r\n",
        "# Remove the labels from the features\r\n",
        "features = feature__sample.drop(('classification', '', 'idx'), axis = 1)\r\n",
        "# Saving feature names\r\n",
        "feature_list = list(features.columns)\r\n",
        "# Convert to numpy array\r\n",
        "features = np.array(features)\r\n",
        "\r\n",
        "# Split the data into training and testing sets\r\n",
        "train_features, test_features, train_labels, test_labels = train_test_split(features, labels, test_size = 0.25, random_state = 14)\r\n",
        "print('Training Features :', train_features.shape)\r\n",
        "print('Training Labels :', train_labels.shape)\r\n",
        "print('Testing Features :', test_features.shape)\r\n",
        "print('Testing Labels :', test_labels.shape)"
      ],
      "execution_count": null,
      "outputs": [
        {
          "output_type": "stream",
          "text": [
            "Training Features : (42117, 28)\n",
            "Training Labels : (42117,)\n",
            "Testing Features : (14039, 28)\n",
            "Testing Labels : (14039,)\n"
          ],
          "name": "stdout"
        }
      ]
    },
    {
      "cell_type": "code",
      "metadata": {
        "id": "kFLCH6Y_mfJ_",
        "colab": {
          "base_uri": "https://localhost:8080/"
        },
        "outputId": "76e3fa33-cf58-4330-ea71-518d870b4a29"
      },
      "source": [
        "from sklearn.ensemble import RandomForestClassifier\r\n",
        "\r\n",
        "\r\n",
        "rf = RandomForestClassifier(n_estimators = 200, random_state = 14)\r\n",
        "\r\n",
        "# Train the model on training data\r\n",
        "rf.fit(train_features, train_labels)"
      ],
      "execution_count": null,
      "outputs": [
        {
          "output_type": "execute_result",
          "data": {
            "text/plain": [
              "RandomForestClassifier(bootstrap=True, ccp_alpha=0.0, class_weight=None,\n",
              "                       criterion='gini', max_depth=None, max_features='auto',\n",
              "                       max_leaf_nodes=None, max_samples=None,\n",
              "                       min_impurity_decrease=0.0, min_impurity_split=None,\n",
              "                       min_samples_leaf=1, min_samples_split=2,\n",
              "                       min_weight_fraction_leaf=0.0, n_estimators=200,\n",
              "                       n_jobs=None, oob_score=False, random_state=14, verbose=0,\n",
              "                       warm_start=False)"
            ]
          },
          "metadata": {
            "tags": []
          },
          "execution_count": 81
        }
      ]
    },
    {
      "cell_type": "code",
      "metadata": {
        "id": "EH028nGxppgs",
        "colab": {
          "base_uri": "https://localhost:8080/"
        },
        "outputId": "7537ba6d-c736-4c0b-f694-39c8e1b4db19"
      },
      "source": [
        "predictions = rf.predict(test_features)\r\n",
        "\r\n",
        "# calculate accuracy\r\n",
        "from sklearn import metrics\r\n",
        "print(metrics.accuracy_score(test_labels, predictions))"
      ],
      "execution_count": null,
      "outputs": [
        {
          "output_type": "stream",
          "text": [
            "0.9036256143599971\n"
          ],
          "name": "stdout"
        }
      ]
    },
    {
      "cell_type": "markdown",
      "metadata": {
        "id": "8Tm47a7k759J"
      },
      "source": [
        "# Generate predictions 💪"
      ]
    },
    {
      "cell_type": "code",
      "metadata": {
        "id": "XG55GOAHrY6r"
      },
      "source": [
        "# Generating Random Predictions\n",
        "submission = {}\n",
        "test = np.load('data/test.npy',allow_pickle=True).item()\n",
        "for sequence_id, sequence in test[\"sequences\"].items():\n",
        "  single_keypoints = sequence['keypoints']\n",
        "  single_keypoints_2d = single_keypoints.reshape(single_keypoints.shape[0], single_keypoints.shape[1]*single_keypoints.shape[2]*single_keypoints.shape[3])\n",
        "  submission[sequence_id] = rf.predict(single_keypoints_2d)\n",
        "  "
      ],
      "execution_count": null,
      "outputs": []
    },
    {
      "cell_type": "markdown",
      "metadata": {
        "id": "zZYfbeJIrNt9"
      },
      "source": [
        "## Validate the submission ✅\n",
        "The submssion should follow these constraints:\n",
        "\n",
        "1.   It should be a dictionary\n",
        "2.   It should be have same keys as sample_submission\n",
        "3.   The lengths of the arrays are same\n",
        "4.   All values are intergers\n",
        "\n",
        "You can use the helper function below to check these\n",
        "\n"
      ]
    },
    {
      "cell_type": "code",
      "metadata": {
        "id": "nl5FrGHcrLy4"
      },
      "source": [
        "def validate_submission(submission, sample_submission):\n",
        "    if not isinstance(submission, dict):\n",
        "      print(\"Submission should be dict\")\n",
        "      return False\n",
        "\n",
        "    if not submission.keys() == sample_submission.keys():\n",
        "      print(\"Submission keys don't match\")\n",
        "      return False\n",
        "    \n",
        "    for key in submission:\n",
        "      sv = submission[key]\n",
        "      ssv = sample_submission[key]\n",
        "      if not len(sv) == len(ssv):\n",
        "        print(f\"Submission lengths of {key} doesn't match\")\n",
        "        return False\n",
        "    \n",
        "    for key, sv in submission.items():\n",
        "      if not all(isinstance(x, (np.int32, np.int64, int)) for x in list(sv)):\n",
        "        print(f\"Submission of {key} is not all integers\")\n",
        "        return False\n",
        "    \n",
        "    print(\"All tests passed\")\n",
        "    return True"
      ],
      "execution_count": null,
      "outputs": []
    },
    {
      "cell_type": "code",
      "metadata": {
        "colab": {
          "base_uri": "https://localhost:8080/"
        },
        "id": "k_twyjQEyaUy",
        "outputId": "3c97ce42-d423-4de4-e6fb-aa34d6945cd1"
      },
      "source": [
        "validate_submission(submission, sample_submission)"
      ],
      "execution_count": null,
      "outputs": [
        {
          "output_type": "stream",
          "text": [
            "All tests passed\n"
          ],
          "name": "stdout"
        },
        {
          "output_type": "execute_result",
          "data": {
            "text/plain": [
              "True"
            ]
          },
          "metadata": {
            "tags": []
          },
          "execution_count": 86
        }
      ]
    },
    {
      "cell_type": "markdown",
      "metadata": {
        "id": "nPfKXGb1vTRd"
      },
      "source": [
        "## Save the prediction as `npy` 📨"
      ]
    },
    {
      "cell_type": "code",
      "metadata": {
        "id": "1LkuPd5AvTRd"
      },
      "source": [
        "np.save(\"submission.npy\", submission)"
      ],
      "execution_count": null,
      "outputs": []
    },
    {
      "cell_type": "markdown",
      "metadata": {
        "id": "aEZqmoHJJl4j"
      },
      "source": [
        "## Submit to AIcrowd 🚀"
      ]
    },
    {
      "cell_type": "code",
      "metadata": {
        "id": "yaUu2j8tCdZ1",
        "colab": {
          "base_uri": "https://localhost:8080/"
        },
        "outputId": "0aea098b-17c3-406f-a4b5-5f546fe5e861"
      },
      "source": [
        "!aicrowd submission create -c mabe-task-1-classical-classification -f submission.npy"
      ],
      "execution_count": null,
      "outputs": [
        {
          "output_type": "stream",
          "text": [
            "\u001b[2K\u001b[1;34msubmission.npy\u001b[0m \u001b[90m━━━━━━━━━━━━━━━━━━━━━━\u001b[0m \u001b[35m100.0%\u001b[0m • \u001b[32m65.4/65.4 MB\u001b[0m • \u001b[31m2.2 MB/s\u001b[0m • \u001b[36m0:00:00\u001b[0m\n",
            "\u001b[?25h                                                                    ╭─────────────────────────╮                                                                    \n",
            "                                                                    │ \u001b[1mSuccessfully submitted!\u001b[0m │                                                                    \n",
            "                                                                    ╰─────────────────────────╯                                                                    \n",
            "\u001b[3m                                                                          Important links                                                                          \u001b[0m\n",
            "┌──────────────────┬──────────────────────────────────────────────────────────────────────────────────────────────────────────────────────────────────────────────┐\n",
            "│  This submission │\u001b[1;94m \u001b[0m\u001b[1;94mhttps://www.aicrowd.com/challenges/multi-agent-behavior-representation-modeling-measurement-and-applications/submissions/125692             \u001b[0m\u001b[1;94m \u001b[0m│\n",
            "│                  │                                                                                                                                              │\n",
            "│  All submissions │\u001b[1;94m \u001b[0m\u001b[1;94mhttps://www.aicrowd.com/challenges/multi-agent-behavior-representation-modeling-measurement-and-applications/submissions?my_submissions=true\u001b[0m\u001b[1;94m \u001b[0m│\n",
            "│                  │                                                                                                                                              │\n",
            "│      Leaderboard │\u001b[1;94m \u001b[0m\u001b[1;94mhttps://www.aicrowd.com/challenges/multi-agent-behavior-representation-modeling-measurement-and-applications/leaderboards                   \u001b[0m\u001b[1;94m \u001b[0m│\n",
            "│                  │                                                                                                                                              │\n",
            "│ Discussion forum │\u001b[1;94m \u001b[0m\u001b[1;94mhttps://discourse.aicrowd.com/c/multi-agent-behavior-representation-modeling-measurement-and-applications                                   \u001b[0m\u001b[1;94m \u001b[0m│\n",
            "│                  │                                                                                                                                              │\n",
            "│   Challenge page │\u001b[1;94m \u001b[0m\u001b[1;94mhttps://www.aicrowd.com/challenges/multi-agent-behavior-representation-modeling-measurement-and-applications                                \u001b[0m\u001b[1;94m \u001b[0m│\n",
            "└──────────────────┴──────────────────────────────────────────────────────────────────────────────────────────────────────────────────────────────────────────────┘\n",
            "{'submission_id': 125692, 'created_at': '2021-03-09T17:26:59.516Z'}\n"
          ],
          "name": "stdout"
        }
      ]
    },
    {
      "cell_type": "code",
      "metadata": {
        "id": "aVeWnf_lCZQ3"
      },
      "source": [
        ""
      ],
      "execution_count": null,
      "outputs": []
    }
  ]
}